{
 "cells": [
  {
   "cell_type": "code",
   "execution_count": 1,
   "metadata": {},
   "outputs": [],
   "source": [
    "import numpy as np\n",
    "import pandas as pd\n",
    "import matplotlib.pyplot as plt\n",
    "import re\n",
    "import string\n",
    "%matplotlib inline"
   ]
  },
  {
   "cell_type": "code",
   "execution_count": 2,
   "metadata": {},
   "outputs": [],
   "source": [
    "posting=pd.read_csv('G:/AnalytixLab/PYTHON & Machine learning/Assignment/M.L assignments/Text Mining (NLPNLG, Classification, Segmentation, Sentiment)/Analyzing online Job Postings/data job posts.csv')"
   ]
  },
  {
   "cell_type": "code",
   "execution_count": 3,
   "metadata": {},
   "outputs": [
    {
     "data": {
      "text/html": [
       "<div>\n",
       "<style scoped>\n",
       "    .dataframe tbody tr th:only-of-type {\n",
       "        vertical-align: middle;\n",
       "    }\n",
       "\n",
       "    .dataframe tbody tr th {\n",
       "        vertical-align: top;\n",
       "    }\n",
       "\n",
       "    .dataframe thead th {\n",
       "        text-align: right;\n",
       "    }\n",
       "</style>\n",
       "<table border=\"1\" class=\"dataframe\">\n",
       "  <thead>\n",
       "    <tr style=\"text-align: right;\">\n",
       "      <th></th>\n",
       "      <th>jobpost</th>\n",
       "      <th>date</th>\n",
       "      <th>Title</th>\n",
       "      <th>Company</th>\n",
       "      <th>AnnouncementCode</th>\n",
       "      <th>Term</th>\n",
       "      <th>Eligibility</th>\n",
       "      <th>Audience</th>\n",
       "      <th>StartDate</th>\n",
       "      <th>Duration</th>\n",
       "      <th>...</th>\n",
       "      <th>Salary</th>\n",
       "      <th>ApplicationP</th>\n",
       "      <th>OpeningDate</th>\n",
       "      <th>Deadline</th>\n",
       "      <th>Notes</th>\n",
       "      <th>AboutC</th>\n",
       "      <th>Attach</th>\n",
       "      <th>Year</th>\n",
       "      <th>Month</th>\n",
       "      <th>IT</th>\n",
       "    </tr>\n",
       "  </thead>\n",
       "  <tbody>\n",
       "    <tr>\n",
       "      <th>0</th>\n",
       "      <td>AMERIA Investment Consulting Company\\nJOB TITL...</td>\n",
       "      <td>Jan 5, 2004</td>\n",
       "      <td>Chief Financial Officer</td>\n",
       "      <td>AMERIA Investment Consulting Company</td>\n",
       "      <td>NaN</td>\n",
       "      <td>NaN</td>\n",
       "      <td>NaN</td>\n",
       "      <td>NaN</td>\n",
       "      <td>NaN</td>\n",
       "      <td>NaN</td>\n",
       "      <td>...</td>\n",
       "      <td>NaN</td>\n",
       "      <td>To apply for this position, please submit a\\nc...</td>\n",
       "      <td>NaN</td>\n",
       "      <td>26 January 2004</td>\n",
       "      <td>NaN</td>\n",
       "      <td>NaN</td>\n",
       "      <td>NaN</td>\n",
       "      <td>2004</td>\n",
       "      <td>1</td>\n",
       "      <td>False</td>\n",
       "    </tr>\n",
       "    <tr>\n",
       "      <th>1</th>\n",
       "      <td>International Research &amp; Exchanges Board (IREX...</td>\n",
       "      <td>Jan 7, 2004</td>\n",
       "      <td>Full-time Community Connections Intern (paid i...</td>\n",
       "      <td>International Research &amp; Exchanges Board (IREX)</td>\n",
       "      <td>NaN</td>\n",
       "      <td>NaN</td>\n",
       "      <td>NaN</td>\n",
       "      <td>NaN</td>\n",
       "      <td>NaN</td>\n",
       "      <td>3 months</td>\n",
       "      <td>...</td>\n",
       "      <td>NaN</td>\n",
       "      <td>Please submit a cover letter and resume to:\\nI...</td>\n",
       "      <td>NaN</td>\n",
       "      <td>12 January 2004</td>\n",
       "      <td>NaN</td>\n",
       "      <td>The International Research &amp; Exchanges Board (...</td>\n",
       "      <td>NaN</td>\n",
       "      <td>2004</td>\n",
       "      <td>1</td>\n",
       "      <td>False</td>\n",
       "    </tr>\n",
       "    <tr>\n",
       "      <th>2</th>\n",
       "      <td>Caucasus Environmental NGO Network (CENN)\\nJOB...</td>\n",
       "      <td>Jan 7, 2004</td>\n",
       "      <td>Country Coordinator</td>\n",
       "      <td>Caucasus Environmental NGO Network (CENN)</td>\n",
       "      <td>NaN</td>\n",
       "      <td>NaN</td>\n",
       "      <td>NaN</td>\n",
       "      <td>NaN</td>\n",
       "      <td>NaN</td>\n",
       "      <td>Renewable annual contract\\nPOSITION</td>\n",
       "      <td>...</td>\n",
       "      <td>NaN</td>\n",
       "      <td>Please send resume or CV toursula.kazarian@......</td>\n",
       "      <td>NaN</td>\n",
       "      <td>20 January 2004\\nSTART DATE:  February 2004</td>\n",
       "      <td>NaN</td>\n",
       "      <td>The Caucasus Environmental NGO Network is a\\nn...</td>\n",
       "      <td>NaN</td>\n",
       "      <td>2004</td>\n",
       "      <td>1</td>\n",
       "      <td>False</td>\n",
       "    </tr>\n",
       "    <tr>\n",
       "      <th>3</th>\n",
       "      <td>Manoff Group\\nJOB TITLE:  BCC Specialist\\nPOSI...</td>\n",
       "      <td>Jan 7, 2004</td>\n",
       "      <td>BCC Specialist</td>\n",
       "      <td>Manoff Group</td>\n",
       "      <td>NaN</td>\n",
       "      <td>NaN</td>\n",
       "      <td>NaN</td>\n",
       "      <td>NaN</td>\n",
       "      <td>NaN</td>\n",
       "      <td>NaN</td>\n",
       "      <td>...</td>\n",
       "      <td>NaN</td>\n",
       "      <td>Please send cover letter and resume to Amy\\nPe...</td>\n",
       "      <td>NaN</td>\n",
       "      <td>23 January 2004\\nSTART DATE:  Immediate</td>\n",
       "      <td>NaN</td>\n",
       "      <td>NaN</td>\n",
       "      <td>NaN</td>\n",
       "      <td>2004</td>\n",
       "      <td>1</td>\n",
       "      <td>False</td>\n",
       "    </tr>\n",
       "    <tr>\n",
       "      <th>4</th>\n",
       "      <td>Yerevan Brandy Company\\nJOB TITLE:  Software D...</td>\n",
       "      <td>Jan 10, 2004</td>\n",
       "      <td>Software Developer</td>\n",
       "      <td>Yerevan Brandy Company</td>\n",
       "      <td>NaN</td>\n",
       "      <td>NaN</td>\n",
       "      <td>NaN</td>\n",
       "      <td>NaN</td>\n",
       "      <td>NaN</td>\n",
       "      <td>NaN</td>\n",
       "      <td>...</td>\n",
       "      <td>NaN</td>\n",
       "      <td>Successful candidates should submit\\n- CV; \\n-...</td>\n",
       "      <td>NaN</td>\n",
       "      <td>20 January 2004, 18:00</td>\n",
       "      <td>NaN</td>\n",
       "      <td>NaN</td>\n",
       "      <td>NaN</td>\n",
       "      <td>2004</td>\n",
       "      <td>1</td>\n",
       "      <td>True</td>\n",
       "    </tr>\n",
       "    <tr>\n",
       "      <th>...</th>\n",
       "      <td>...</td>\n",
       "      <td>...</td>\n",
       "      <td>...</td>\n",
       "      <td>...</td>\n",
       "      <td>...</td>\n",
       "      <td>...</td>\n",
       "      <td>...</td>\n",
       "      <td>...</td>\n",
       "      <td>...</td>\n",
       "      <td>...</td>\n",
       "      <td>...</td>\n",
       "      <td>...</td>\n",
       "      <td>...</td>\n",
       "      <td>...</td>\n",
       "      <td>...</td>\n",
       "      <td>...</td>\n",
       "      <td>...</td>\n",
       "      <td>...</td>\n",
       "      <td>...</td>\n",
       "      <td>...</td>\n",
       "      <td>...</td>\n",
       "    </tr>\n",
       "    <tr>\n",
       "      <th>18996</th>\n",
       "      <td>Technolinguistics NGO\\n\\n\\nTITLE:  Senior Crea...</td>\n",
       "      <td>Dec 28, 2015</td>\n",
       "      <td>Senior Creative UX/ UI Designer</td>\n",
       "      <td>Technolinguistics NGO</td>\n",
       "      <td>NaN</td>\n",
       "      <td>Full-time</td>\n",
       "      <td>NaN</td>\n",
       "      <td>NaN</td>\n",
       "      <td>NaN</td>\n",
       "      <td>Long-term</td>\n",
       "      <td>...</td>\n",
       "      <td>Competitive</td>\n",
       "      <td>To apply for this position, please send your\\n...</td>\n",
       "      <td>29 December 2015</td>\n",
       "      <td>28 January 2016</td>\n",
       "      <td>NaN</td>\n",
       "      <td>As a company Technolinguistics has a mandate t...</td>\n",
       "      <td>NaN</td>\n",
       "      <td>2015</td>\n",
       "      <td>12</td>\n",
       "      <td>False</td>\n",
       "    </tr>\n",
       "    <tr>\n",
       "      <th>18997</th>\n",
       "      <td>\"Coca-Cola Hellenic Bottling Company Armenia\" ...</td>\n",
       "      <td>Dec 30, 2015</td>\n",
       "      <td>Category Development Manager</td>\n",
       "      <td>\"Coca-Cola Hellenic Bottling Company Armenia\" ...</td>\n",
       "      <td>NaN</td>\n",
       "      <td>Full-time</td>\n",
       "      <td>All interested professionals.</td>\n",
       "      <td>NaN</td>\n",
       "      <td>ASAP</td>\n",
       "      <td>Long-term with a probation period of 3 months.</td>\n",
       "      <td>...</td>\n",
       "      <td>NaN</td>\n",
       "      <td>All interested candidates are kindly requested...</td>\n",
       "      <td>30 December 2015</td>\n",
       "      <td>20 January 2016</td>\n",
       "      <td>NaN</td>\n",
       "      <td>NaN</td>\n",
       "      <td>NaN</td>\n",
       "      <td>2015</td>\n",
       "      <td>12</td>\n",
       "      <td>False</td>\n",
       "    </tr>\n",
       "    <tr>\n",
       "      <th>18998</th>\n",
       "      <td>\"Coca-Cola Hellenic Bottling Company Armenia\" ...</td>\n",
       "      <td>Dec 30, 2015</td>\n",
       "      <td>Operational Marketing Manager</td>\n",
       "      <td>\"Coca-Cola Hellenic Bottling Company Armenia\" ...</td>\n",
       "      <td>NaN</td>\n",
       "      <td>Full-time</td>\n",
       "      <td>All interested professionals.</td>\n",
       "      <td>NaN</td>\n",
       "      <td>ASAP</td>\n",
       "      <td>Long-term with a probation period of 3 months.</td>\n",
       "      <td>...</td>\n",
       "      <td>NaN</td>\n",
       "      <td>All interested candidates are kindly requested...</td>\n",
       "      <td>30 December 2015</td>\n",
       "      <td>20 January 2016</td>\n",
       "      <td>NaN</td>\n",
       "      <td>NaN</td>\n",
       "      <td>NaN</td>\n",
       "      <td>2015</td>\n",
       "      <td>12</td>\n",
       "      <td>False</td>\n",
       "    </tr>\n",
       "    <tr>\n",
       "      <th>18999</th>\n",
       "      <td>San Lazzaro   LLC\\n\\n\\nTITLE:  Head of Online ...</td>\n",
       "      <td>Dec 30, 2015</td>\n",
       "      <td>Head of Online Sales Department</td>\n",
       "      <td>San Lazzaro   LLC</td>\n",
       "      <td>NaN</td>\n",
       "      <td>NaN</td>\n",
       "      <td>NaN</td>\n",
       "      <td>NaN</td>\n",
       "      <td>NaN</td>\n",
       "      <td>Long-term</td>\n",
       "      <td>...</td>\n",
       "      <td>Highly competitive</td>\n",
       "      <td>Interested candidates can send their CVs to:\\n...</td>\n",
       "      <td>30 December 2015</td>\n",
       "      <td>29 January 2016</td>\n",
       "      <td>NaN</td>\n",
       "      <td>San Lazzaro LLC works with several internation...</td>\n",
       "      <td>NaN</td>\n",
       "      <td>2015</td>\n",
       "      <td>12</td>\n",
       "      <td>False</td>\n",
       "    </tr>\n",
       "    <tr>\n",
       "      <th>19000</th>\n",
       "      <td>\"Kamurj\" UCO CJSC\\n\\n\\nTITLE:  Lawyer in Legal...</td>\n",
       "      <td>Dec 30, 2015</td>\n",
       "      <td>Lawyer in Legal Department</td>\n",
       "      <td>\"Kamurj\" UCO CJSC</td>\n",
       "      <td>NaN</td>\n",
       "      <td>Full-time</td>\n",
       "      <td>NaN</td>\n",
       "      <td>NaN</td>\n",
       "      <td>NaN</td>\n",
       "      <td>Indefinite</td>\n",
       "      <td>...</td>\n",
       "      <td>NaN</td>\n",
       "      <td>All qualified applicants are encouraged to\\nsu...</td>\n",
       "      <td>30 December 2015</td>\n",
       "      <td>20 January 2016</td>\n",
       "      <td>NaN</td>\n",
       "      <td>\"Kamurj\" UCO CJSC is providing micro and small...</td>\n",
       "      <td>NaN</td>\n",
       "      <td>2015</td>\n",
       "      <td>12</td>\n",
       "      <td>False</td>\n",
       "    </tr>\n",
       "  </tbody>\n",
       "</table>\n",
       "<p>19001 rows × 24 columns</p>\n",
       "</div>"
      ],
      "text/plain": [
       "                                                 jobpost          date  \\\n",
       "0      AMERIA Investment Consulting Company\\nJOB TITL...   Jan 5, 2004   \n",
       "1      International Research & Exchanges Board (IREX...   Jan 7, 2004   \n",
       "2      Caucasus Environmental NGO Network (CENN)\\nJOB...   Jan 7, 2004   \n",
       "3      Manoff Group\\nJOB TITLE:  BCC Specialist\\nPOSI...   Jan 7, 2004   \n",
       "4      Yerevan Brandy Company\\nJOB TITLE:  Software D...  Jan 10, 2004   \n",
       "...                                                  ...           ...   \n",
       "18996  Technolinguistics NGO\\n\\n\\nTITLE:  Senior Crea...  Dec 28, 2015   \n",
       "18997  \"Coca-Cola Hellenic Bottling Company Armenia\" ...  Dec 30, 2015   \n",
       "18998  \"Coca-Cola Hellenic Bottling Company Armenia\" ...  Dec 30, 2015   \n",
       "18999  San Lazzaro   LLC\\n\\n\\nTITLE:  Head of Online ...  Dec 30, 2015   \n",
       "19000  \"Kamurj\" UCO CJSC\\n\\n\\nTITLE:  Lawyer in Legal...  Dec 30, 2015   \n",
       "\n",
       "                                                   Title  \\\n",
       "0                                Chief Financial Officer   \n",
       "1      Full-time Community Connections Intern (paid i...   \n",
       "2                                    Country Coordinator   \n",
       "3                                         BCC Specialist   \n",
       "4                                     Software Developer   \n",
       "...                                                  ...   \n",
       "18996                    Senior Creative UX/ UI Designer   \n",
       "18997                       Category Development Manager   \n",
       "18998                      Operational Marketing Manager   \n",
       "18999                    Head of Online Sales Department   \n",
       "19000                         Lawyer in Legal Department   \n",
       "\n",
       "                                                 Company AnnouncementCode  \\\n",
       "0                   AMERIA Investment Consulting Company              NaN   \n",
       "1        International Research & Exchanges Board (IREX)              NaN   \n",
       "2              Caucasus Environmental NGO Network (CENN)              NaN   \n",
       "3                                           Manoff Group              NaN   \n",
       "4                                 Yerevan Brandy Company              NaN   \n",
       "...                                                  ...              ...   \n",
       "18996                              Technolinguistics NGO              NaN   \n",
       "18997  \"Coca-Cola Hellenic Bottling Company Armenia\" ...              NaN   \n",
       "18998  \"Coca-Cola Hellenic Bottling Company Armenia\" ...              NaN   \n",
       "18999                                  San Lazzaro   LLC              NaN   \n",
       "19000                                  \"Kamurj\" UCO CJSC              NaN   \n",
       "\n",
       "            Term                    Eligibility Audience StartDate  \\\n",
       "0            NaN                            NaN      NaN       NaN   \n",
       "1            NaN                            NaN      NaN       NaN   \n",
       "2            NaN                            NaN      NaN       NaN   \n",
       "3            NaN                            NaN      NaN       NaN   \n",
       "4            NaN                            NaN      NaN       NaN   \n",
       "...          ...                            ...      ...       ...   \n",
       "18996  Full-time                            NaN      NaN       NaN   \n",
       "18997  Full-time  All interested professionals.      NaN      ASAP   \n",
       "18998  Full-time  All interested professionals.      NaN      ASAP   \n",
       "18999        NaN                            NaN      NaN       NaN   \n",
       "19000  Full-time                            NaN      NaN       NaN   \n",
       "\n",
       "                                             Duration  ...  \\\n",
       "0                                                 NaN  ...   \n",
       "1                                            3 months  ...   \n",
       "2                 Renewable annual contract\\nPOSITION  ...   \n",
       "3                                                 NaN  ...   \n",
       "4                                                 NaN  ...   \n",
       "...                                               ...  ...   \n",
       "18996                                       Long-term  ...   \n",
       "18997  Long-term with a probation period of 3 months.  ...   \n",
       "18998  Long-term with a probation period of 3 months.  ...   \n",
       "18999                                       Long-term  ...   \n",
       "19000                                      Indefinite  ...   \n",
       "\n",
       "                   Salary                                       ApplicationP  \\\n",
       "0                     NaN  To apply for this position, please submit a\\nc...   \n",
       "1                     NaN  Please submit a cover letter and resume to:\\nI...   \n",
       "2                     NaN  Please send resume or CV toursula.kazarian@......   \n",
       "3                     NaN  Please send cover letter and resume to Amy\\nPe...   \n",
       "4                     NaN  Successful candidates should submit\\n- CV; \\n-...   \n",
       "...                   ...                                                ...   \n",
       "18996         Competitive  To apply for this position, please send your\\n...   \n",
       "18997                 NaN  All interested candidates are kindly requested...   \n",
       "18998                 NaN  All interested candidates are kindly requested...   \n",
       "18999  Highly competitive  Interested candidates can send their CVs to:\\n...   \n",
       "19000                 NaN  All qualified applicants are encouraged to\\nsu...   \n",
       "\n",
       "            OpeningDate                                     Deadline Notes  \\\n",
       "0                   NaN                              26 January 2004   NaN   \n",
       "1                   NaN                              12 January 2004   NaN   \n",
       "2                   NaN  20 January 2004\\nSTART DATE:  February 2004   NaN   \n",
       "3                   NaN      23 January 2004\\nSTART DATE:  Immediate   NaN   \n",
       "4                   NaN                       20 January 2004, 18:00   NaN   \n",
       "...                 ...                                          ...   ...   \n",
       "18996  29 December 2015                              28 January 2016   NaN   \n",
       "18997  30 December 2015                              20 January 2016   NaN   \n",
       "18998  30 December 2015                              20 January 2016   NaN   \n",
       "18999  30 December 2015                              29 January 2016   NaN   \n",
       "19000  30 December 2015                              20 January 2016   NaN   \n",
       "\n",
       "                                                  AboutC Attach  Year Month  \\\n",
       "0                                                    NaN    NaN  2004     1   \n",
       "1      The International Research & Exchanges Board (...    NaN  2004     1   \n",
       "2      The Caucasus Environmental NGO Network is a\\nn...    NaN  2004     1   \n",
       "3                                                    NaN    NaN  2004     1   \n",
       "4                                                    NaN    NaN  2004     1   \n",
       "...                                                  ...    ...   ...   ...   \n",
       "18996  As a company Technolinguistics has a mandate t...    NaN  2015    12   \n",
       "18997                                                NaN    NaN  2015    12   \n",
       "18998                                                NaN    NaN  2015    12   \n",
       "18999  San Lazzaro LLC works with several internation...    NaN  2015    12   \n",
       "19000  \"Kamurj\" UCO CJSC is providing micro and small...    NaN  2015    12   \n",
       "\n",
       "          IT  \n",
       "0      False  \n",
       "1      False  \n",
       "2      False  \n",
       "3      False  \n",
       "4       True  \n",
       "...      ...  \n",
       "18996  False  \n",
       "18997  False  \n",
       "18998  False  \n",
       "18999  False  \n",
       "19000  False  \n",
       "\n",
       "[19001 rows x 24 columns]"
      ]
     },
     "execution_count": 3,
     "metadata": {},
     "output_type": "execute_result"
    }
   ],
   "source": [
    "posting"
   ]
  },
  {
   "cell_type": "code",
   "execution_count": 4,
   "metadata": {},
   "outputs": [
    {
     "data": {
      "text/plain": [
       "jobpost             object\n",
       "date                object\n",
       "Title               object\n",
       "Company             object\n",
       "AnnouncementCode    object\n",
       "Term                object\n",
       "Eligibility         object\n",
       "Audience            object\n",
       "StartDate           object\n",
       "Duration            object\n",
       "Location            object\n",
       "JobDescription      object\n",
       "JobRequirment       object\n",
       "RequiredQual        object\n",
       "Salary              object\n",
       "ApplicationP        object\n",
       "OpeningDate         object\n",
       "Deadline            object\n",
       "Notes               object\n",
       "AboutC              object\n",
       "Attach              object\n",
       "Year                 int64\n",
       "Month                int64\n",
       "IT                    bool\n",
       "dtype: object"
      ]
     },
     "execution_count": 4,
     "metadata": {},
     "output_type": "execute_result"
    }
   ],
   "source": [
    "posting.dtypes"
   ]
  },
  {
   "cell_type": "code",
   "execution_count": 5,
   "metadata": {},
   "outputs": [
    {
     "name": "stdout",
     "output_type": "stream",
     "text": [
      "% of Null-values in each feature\n"
     ]
    },
    {
     "data": {
      "text/plain": [
       "Audience            96.631756\n",
       "AnnouncementCode    93.642440\n",
       "Attach              91.795169\n",
       "Notes               88.363770\n",
       "Eligibility         74.053997\n",
       "Term                59.602126\n",
       "Salary              49.360560\n",
       "StartDate           49.081627\n",
       "Duration            43.171412\n",
       "AboutC              34.371875\n",
       "JobDescription      20.483132\n",
       "JobRequirment       13.272986\n",
       "OpeningDate          3.715594\n",
       "RequiredQual         2.547234\n",
       "Deadline             0.342087\n",
       "ApplicationP         0.315773\n",
       "Location             0.168412\n",
       "Title                0.147361\n",
       "Company              0.036840\n",
       "date                 0.000000\n",
       "IT                   0.000000\n",
       "Month                0.000000\n",
       "Year                 0.000000\n",
       "jobpost              0.000000\n",
       "dtype: float64"
      ]
     },
     "execution_count": 5,
     "metadata": {},
     "output_type": "execute_result"
    }
   ],
   "source": [
    "print('% of Null-values in each feature')\n",
    "(posting.isnull().sum().sort_values(ascending=False)/posting.shape[0])*100"
   ]
  },
  {
   "cell_type": "code",
   "execution_count": 6,
   "metadata": {},
   "outputs": [],
   "source": [
    "jb_posting=posting.apply(lambda x: x.fillna(x.mode()[0]))"
   ]
  },
  {
   "cell_type": "code",
   "execution_count": 7,
   "metadata": {},
   "outputs": [
    {
     "data": {
      "text/plain": [
       "jobpost             0.0\n",
       "date                0.0\n",
       "Title               0.0\n",
       "Company             0.0\n",
       "AnnouncementCode    0.0\n",
       "Term                0.0\n",
       "Eligibility         0.0\n",
       "Audience            0.0\n",
       "StartDate           0.0\n",
       "Duration            0.0\n",
       "Location            0.0\n",
       "JobDescription      0.0\n",
       "JobRequirment       0.0\n",
       "RequiredQual        0.0\n",
       "Salary              0.0\n",
       "ApplicationP        0.0\n",
       "OpeningDate         0.0\n",
       "Deadline            0.0\n",
       "Notes               0.0\n",
       "AboutC              0.0\n",
       "Attach              0.0\n",
       "Year                0.0\n",
       "Month               0.0\n",
       "IT                  0.0\n",
       "dtype: float64"
      ]
     },
     "execution_count": 7,
     "metadata": {},
     "output_type": "execute_result"
    }
   ],
   "source": [
    "(jb_posting.isnull().sum()/jb_posting.shape[0])*100"
   ]
  },
  {
   "cell_type": "code",
   "execution_count": null,
   "metadata": {},
   "outputs": [],
   "source": []
  },
  {
   "cell_type": "markdown",
   "metadata": {},
   "source": [
    "Supervised learning classification models that are able to classify based on the job text data accurately, is it an IT job."
   ]
  },
  {
   "cell_type": "code",
   "execution_count": 8,
   "metadata": {},
   "outputs": [],
   "source": [
    "# Selecting important features.\n",
    "import warnings\n",
    "warnings.filterwarnings(\"ignore\")\n",
    "\n",
    "df=jb_posting[['IT','AboutC','RequiredQual','JobDescription','Audience','Company','Title','Notes','Salary','JobRequirment',\n",
    "                'Eligibility','jobpost']]\n",
    "df['IT'] = np.where(df.IT==False,0,1)"
   ]
  },
  {
   "cell_type": "code",
   "execution_count": 10,
   "metadata": {},
   "outputs": [
    {
     "name": "stdout",
     "output_type": "stream",
     "text": [
      "(16150,)\n",
      "(2851,)\n",
      "(16150,)\n",
      "(2851,)\n"
     ]
    }
   ],
   "source": [
    "# train features and labels \n",
    "\n",
    "from sklearn.model_selection import train_test_split\n",
    "\n",
    "y = df['IT']\n",
    "X = df['RequiredQual']\n",
    "\n",
    "# split the new DataFrame into training and testing sets\n",
    "X_train, X_test, y_train, y_test = train_test_split(X, y,test_size=0.15, random_state=1)\n",
    "print(X_train.shape)\n",
    "print(X_test.shape)\n",
    "print(y_train.shape)\n",
    "print(y_test.shape)"
   ]
  },
  {
   "cell_type": "code",
   "execution_count": 11,
   "metadata": {},
   "outputs": [],
   "source": [
    "#Abbrevations and Words correction\n",
    "\n",
    "import nltk\n",
    "from nltk.corpus import stopwords\n",
    "from textblob import TextBlob\n",
    "\n",
    "def clean_text(text):\n",
    "    text = text.lower()\n",
    "    text = text.strip()\n",
    "    text = re.sub(r' +', ' ', text)\n",
    "    text = re.sub(r\"[-()\\\"#/@;:{}`+=~|.!?,'0-9]\", \"\", text)\n",
    "    return(text)\n",
    "\n",
    "stop = set(nltk.corpus.stopwords.words('english'))\n",
    "\n",
    "import string\n",
    "def pre_process(text):\n",
    "    text = text.apply(lambda x: \" \".join(x for x in x.split() if x not in stop)) #Removing stop words\n",
    "    return(text)\n",
    "\n",
    "\n",
    "X_train = X_train.apply(lambda x: clean_text(x))\n",
    "X_test = X_test.apply(lambda x: clean_text(x))\n",
    "\n",
    "X_train=pre_process(X_train)\n",
    "X_test =pre_process(X_test)\n"
   ]
  },
  {
   "cell_type": "code",
   "execution_count": 12,
   "metadata": {},
   "outputs": [],
   "source": [
    "from sklearn.feature_extraction.text import TfidfVectorizer,CountVectorizer,TfidfTransformer\n",
    "\n",
    "count_vect = CountVectorizer(analyzer='word', token_pattern=r'\\w{1,}', \n",
    "                             ngram_range=(1, 1 ), \n",
    "                             min_df=5, \n",
    "                             encoding='latin-1' ,\n",
    "                             max_features=800)\n",
    "xtrain_count = count_vect.fit_transform(X_train)"
   ]
  },
  {
   "cell_type": "code",
   "execution_count": 13,
   "metadata": {},
   "outputs": [
    {
     "data": {
      "text/html": [
       "<div>\n",
       "<style scoped>\n",
       "    .dataframe tbody tr th:only-of-type {\n",
       "        vertical-align: middle;\n",
       "    }\n",
       "\n",
       "    .dataframe tbody tr th {\n",
       "        vertical-align: top;\n",
       "    }\n",
       "\n",
       "    .dataframe thead th {\n",
       "        text-align: right;\n",
       "    }\n",
       "</style>\n",
       "<table border=\"1\" class=\"dataframe\">\n",
       "  <thead>\n",
       "    <tr style=\"text-align: right;\">\n",
       "      <th></th>\n",
       "      <th>abilities</th>\n",
       "      <th>ability</th>\n",
       "      <th>able</th>\n",
       "      <th>abroad</th>\n",
       "      <th>academic</th>\n",
       "      <th>acca</th>\n",
       "      <th>accept</th>\n",
       "      <th>access</th>\n",
       "      <th>according</th>\n",
       "      <th>accountant</th>\n",
       "      <th>...</th>\n",
       "      <th>workload</th>\n",
       "      <th>world</th>\n",
       "      <th>would</th>\n",
       "      <th>write</th>\n",
       "      <th>writing</th>\n",
       "      <th>written</th>\n",
       "      <th>xhtml</th>\n",
       "      <th>xml</th>\n",
       "      <th>year</th>\n",
       "      <th>years</th>\n",
       "    </tr>\n",
       "  </thead>\n",
       "  <tbody>\n",
       "    <tr>\n",
       "      <th>0</th>\n",
       "      <td>0.0</td>\n",
       "      <td>0.056860</td>\n",
       "      <td>0.0</td>\n",
       "      <td>0.0</td>\n",
       "      <td>0.0</td>\n",
       "      <td>0.00000</td>\n",
       "      <td>0.0</td>\n",
       "      <td>0.0</td>\n",
       "      <td>0.0</td>\n",
       "      <td>0.0</td>\n",
       "      <td>...</td>\n",
       "      <td>0.0</td>\n",
       "      <td>0.0</td>\n",
       "      <td>0.0</td>\n",
       "      <td>0.0</td>\n",
       "      <td>0.0</td>\n",
       "      <td>0.000000</td>\n",
       "      <td>0.0</td>\n",
       "      <td>0.0</td>\n",
       "      <td>0.000000</td>\n",
       "      <td>0.062460</td>\n",
       "    </tr>\n",
       "    <tr>\n",
       "      <th>1</th>\n",
       "      <td>0.0</td>\n",
       "      <td>0.131091</td>\n",
       "      <td>0.0</td>\n",
       "      <td>0.0</td>\n",
       "      <td>0.0</td>\n",
       "      <td>0.00000</td>\n",
       "      <td>0.0</td>\n",
       "      <td>0.0</td>\n",
       "      <td>0.0</td>\n",
       "      <td>0.0</td>\n",
       "      <td>...</td>\n",
       "      <td>0.0</td>\n",
       "      <td>0.0</td>\n",
       "      <td>0.0</td>\n",
       "      <td>0.0</td>\n",
       "      <td>0.0</td>\n",
       "      <td>0.099819</td>\n",
       "      <td>0.0</td>\n",
       "      <td>0.0</td>\n",
       "      <td>0.000000</td>\n",
       "      <td>0.072001</td>\n",
       "    </tr>\n",
       "    <tr>\n",
       "      <th>2</th>\n",
       "      <td>0.0</td>\n",
       "      <td>0.000000</td>\n",
       "      <td>0.0</td>\n",
       "      <td>0.0</td>\n",
       "      <td>0.0</td>\n",
       "      <td>0.41524</td>\n",
       "      <td>0.0</td>\n",
       "      <td>0.0</td>\n",
       "      <td>0.0</td>\n",
       "      <td>0.0</td>\n",
       "      <td>...</td>\n",
       "      <td>0.0</td>\n",
       "      <td>0.0</td>\n",
       "      <td>0.0</td>\n",
       "      <td>0.0</td>\n",
       "      <td>0.0</td>\n",
       "      <td>0.000000</td>\n",
       "      <td>0.0</td>\n",
       "      <td>0.0</td>\n",
       "      <td>0.256036</td>\n",
       "      <td>0.000000</td>\n",
       "    </tr>\n",
       "  </tbody>\n",
       "</table>\n",
       "<p>3 rows × 800 columns</p>\n",
       "</div>"
      ],
      "text/plain": [
       "   abilities   ability  able  abroad  academic     acca  accept  access  \\\n",
       "0        0.0  0.056860   0.0     0.0       0.0  0.00000     0.0     0.0   \n",
       "1        0.0  0.131091   0.0     0.0       0.0  0.00000     0.0     0.0   \n",
       "2        0.0  0.000000   0.0     0.0       0.0  0.41524     0.0     0.0   \n",
       "\n",
       "   according  accountant  ...  workload  world  would  write  writing  \\\n",
       "0        0.0         0.0  ...       0.0    0.0    0.0    0.0      0.0   \n",
       "1        0.0         0.0  ...       0.0    0.0    0.0    0.0      0.0   \n",
       "2        0.0         0.0  ...       0.0    0.0    0.0    0.0      0.0   \n",
       "\n",
       "    written  xhtml  xml      year     years  \n",
       "0  0.000000    0.0  0.0  0.000000  0.062460  \n",
       "1  0.099819    0.0  0.0  0.000000  0.072001  \n",
       "2  0.000000    0.0  0.0  0.256036  0.000000  \n",
       "\n",
       "[3 rows x 800 columns]"
      ]
     },
     "execution_count": 13,
     "metadata": {},
     "output_type": "execute_result"
    }
   ],
   "source": [
    "tfidf_transformer = TfidfTransformer()\n",
    "X_train_tfidf = tfidf_transformer.fit_transform(xtrain_count)\n",
    "\n",
    "#Test\n",
    "#count_vect = CountVectorizer()\n",
    "xtest_count = count_vect.transform(X_test)\n",
    "\n",
    "#tfidf_transformer = TfidfTransformer()\n",
    "X_test_tfidf = tfidf_transformer.transform(xtest_count)\n",
    "\n",
    "dtm2=pd.DataFrame(X_train_tfidf.toarray(), columns=count_vect.get_feature_names())\n",
    "dtm2.head(3)"
   ]
  },
  {
   "cell_type": "code",
   "execution_count": 14,
   "metadata": {},
   "outputs": [],
   "source": [
    "# ngram level tf-idf \n",
    "\n",
    "tfidf_vect_ngram =TfidfVectorizer(analyzer='word', token_pattern='\\w{1,}', ngram_range=(1, 2), max_features=800)\n",
    "tfidf_vect_ngram.fit(jb_posting['RequiredQual'])\n",
    "xtrain_tfidf_ngram =tfidf_vect_ngram.transform(X_train)\n",
    "xtest_tfidf_ngram =tfidf_vect_ngram.transform(X_test)"
   ]
  },
  {
   "cell_type": "code",
   "execution_count": 31,
   "metadata": {},
   "outputs": [],
   "source": [
    "from sklearn.cluster import KMeans\n",
    "from sklearn import metrics\n",
    "\n",
    "def train_model(classifier, feature_vector_train, label, feature_vector_valid,  valid_y, is_neural_net=False):\n",
    "    # fit the training dataset on the classifier\n",
    "    classifier.fit(feature_vector_train, label)\n",
    "    \n",
    "    # predict the labels on validation dataset\n",
    "    predictions = classifier.predict(feature_vector_valid)\n",
    "    \n",
    "    if is_neural_net:\n",
    "        predictions = predictions.argmax(axis=-1)\n",
    "    \n",
    "    return metrics.accuracy_score(predictions, valid_y)"
   ]
  },
  {
   "cell_type": "code",
   "execution_count": 32,
   "metadata": {},
   "outputs": [
    {
     "name": "stdout",
     "output_type": "stream",
     "text": [
      "NB  for L1, Count Vectors:  0.9028411083830234\n"
     ]
    }
   ],
   "source": [
    "#Naive Bayes on Count Vectors and TF-IDF\n",
    "\n",
    "from sklearn import naive_bayes\n",
    "accuracy_L1 = train_model(naive_bayes.MultinomialNB(), X_train_tfidf, y_train, X_test_tfidf, y_test)\n",
    "print(\"NB  for L1, Count Vectors: \", accuracy_L1)"
   ]
  },
  {
   "cell_type": "code",
   "execution_count": 33,
   "metadata": {},
   "outputs": [
    {
     "name": "stdout",
     "output_type": "stream",
     "text": [
      "LR  for L1, Count Vectors:  0.9438793405822519\n",
      "LR  for L1, WordLevel TF-IDF:  0.9445808488249737\n",
      "LR  for L1, N-Gram Vectors:  0.942827078218169\n"
     ]
    }
   ],
   "source": [
    "#Random Forest\n",
    "\n",
    "from sklearn.ensemble import RandomForestClassifier\n",
    "\n",
    "# Random Forest on Count Vectors and TF-IDF\n",
    "accuracy_L1 = train_model(RandomForestClassifier(), X_train_tfidf, y_train, X_test_tfidf, y_test)\n",
    "print(\"LR  for L1, Count Vectors: \", accuracy_L1)\n",
    "\n",
    "\n",
    "# Random Forest on Word Level TF IDF Vectors\n",
    "accuracy_L1 = train_model(RandomForestClassifier(), xtrain_count, y_train, xtest_count, y_test)\n",
    "print(\"LR  for L1, WordLevel TF-IDF: \", accuracy_L1)\n",
    "\n",
    "\n",
    "# Random Forest on Ngram Level TF IDF Vectors\n",
    "accuracy_L1 = train_model(RandomForestClassifier(), xtrain_tfidf_ngram, y_train, xtest_tfidf_ngram, y_test)\n",
    "print(\"LR  for L1, N-Gram Vectors: \", accuracy_L1)"
   ]
  },
  {
   "cell_type": "code",
   "execution_count": 34,
   "metadata": {},
   "outputs": [
    {
     "name": "stdout",
     "output_type": "stream",
     "text": [
      "LR  for L1, Count Vectors:  0.933707471062785\n",
      "LR  for L1, WordLevel TF-IDF:  0.938618028761838\n",
      "LR  for L1, N-Gram Vectors:  0.9372150122763943\n"
     ]
    }
   ],
   "source": [
    "#XGBoosting\n",
    "\n",
    "from xgboost import XGBClassifier\n",
    "\n",
    "# XGBoosting on Count Vectors and TF-IDF\n",
    "accuracy_L1 = train_model(XGBClassifier(), X_train_tfidf, y_train, X_test_tfidf, y_test)\n",
    "print(\"LR  for L1, Count Vectors: \", accuracy_L1)\n",
    "\n",
    "# XGBoosting on Word Level TF IDF Vectors\n",
    "accuracy_L1 = train_model(XGBClassifier(), xtrain_count, y_train, xtest_count, y_test)\n",
    "print(\"LR  for L1, WordLevel TF-IDF: \", accuracy_L1)\n",
    "\n",
    "# XGBoosting on Ngram Level TF IDF Vectors\n",
    "accuracy_L1 = train_model(XGBClassifier(), xtrain_tfidf_ngram, y_train, xtest_tfidf_ngram, y_test)\n",
    "print(\"LR  for L1, N-Gram Vectors: \", accuracy_L1)"
   ]
  },
  {
   "cell_type": "code",
   "execution_count": 35,
   "metadata": {},
   "outputs": [
    {
     "name": "stdout",
     "output_type": "stream",
     "text": [
      "LR  for L1, Count Vectors:  0.9168712732374605\n",
      "LR  for L1, WordLevel TF-IDF:  0.9133637320238512\n",
      "LR  for L1, N-Gram Vectors:  0.9172220273588214\n"
     ]
    }
   ],
   "source": [
    "#Gradient Boosting\n",
    "\n",
    "from sklearn.ensemble import GradientBoostingClassifier\n",
    "\n",
    "# Gradient Boosting on Count Vectors and TF-IDF\n",
    "accuracy_L1 = train_model(GradientBoostingClassifier(), X_train_tfidf, y_train, X_test_tfidf, y_test)\n",
    "print(\"LR  for L1, Count Vectors: \", accuracy_L1)\n",
    "\n",
    "# Gradient Boosting on Word Level TF IDF Vectors\n",
    "accuracy_L1 = train_model(GradientBoostingClassifier(), xtrain_count, y_train, xtest_count, y_test)\n",
    "print(\"LR  for L1, WordLevel TF-IDF: \", accuracy_L1)\n",
    "\n",
    "# Gradient Boosting on Ngram Level TF IDF Vectors\n",
    "accuracy_L1 = train_model(GradientBoostingClassifier(), xtrain_tfidf_ngram, y_train, xtest_tfidf_ngram, y_test)\n",
    "print(\"LR  for L1, N-Gram Vectors: \", accuracy_L1)"
   ]
  },
  {
   "cell_type": "code",
   "execution_count": 36,
   "metadata": {},
   "outputs": [
    {
     "name": "stdout",
     "output_type": "stream",
     "text": [
      "LR  for L1, Count Vectors:  0.9414240617327254\n",
      "LR  for L1, WordLevel TF-IDF:  0.942827078218169\n",
      "LR  for L1, N-Gram Vectors:  0.9442300947036127\n"
     ]
    }
   ],
   "source": [
    "#ANN\n",
    "\n",
    "from sklearn.neural_network import MLPClassifier\n",
    "\n",
    "# ANN on Count Vectors and TF-IDF\n",
    "accuracy_L1 = train_model(MLPClassifier(), X_train_tfidf, y_train, X_test_tfidf, y_test)\n",
    "print(\"LR  for L1, Count Vectors: \", accuracy_L1)\n",
    "\n",
    "# ANN on Word Level TF IDF Vectors\n",
    "accuracy_L1 = train_model(MLPClassifier(), xtrain_count, y_train, xtest_count, y_test)\n",
    "print(\"LR  for L1, WordLevel TF-IDF: \", accuracy_L1)\n",
    "\n",
    "# ANN on Ngram Level TF IDF Vectors\n",
    "accuracy_L1 = train_model(MLPClassifier(), xtrain_tfidf_ngram, y_train, xtest_tfidf_ngram, y_test)\n",
    "print(\"LR  for L1, N-Gram Vectors: \", accuracy_L1)"
   ]
  },
  {
   "cell_type": "code",
   "execution_count": 37,
   "metadata": {},
   "outputs": [
    {
     "name": "stdout",
     "output_type": "stream",
     "text": [
      "LR  for L1, Count Vectors:  0.9161697649947387\n",
      "LR  for L1, WordLevel TF-IDF:  0.9340582251841459\n",
      "LR  for L1, N-Gram Vectors:  0.9210803226937917\n"
     ]
    }
   ],
   "source": [
    "import warnings\n",
    "warnings.filterwarnings(\"ignore\")\n",
    "\n",
    "#ANN + logistic\n",
    "\n",
    "# ANN + logistic on Count Vectors and TF-IDF\n",
    "accuracy_L1 = train_model(MLPClassifier(activation='logistic'), X_train_tfidf, y_train, X_test_tfidf, y_test)\n",
    "print(\"LR  for L1, Count Vectors: \", accuracy_L1)\n",
    "\n",
    "# ANN + logistic on Word Level TF IDF Vectors\n",
    "accuracy_L1 = train_model(MLPClassifier(activation='logistic'), xtrain_count, y_train, xtest_count, y_test)\n",
    "print(\"LR  for L1, WordLevel TF-IDF: \", accuracy_L1)\n",
    "\n",
    "# ANN + logistic on Ngram Level TF IDF Vectors\n",
    "accuracy_L1 = train_model(MLPClassifier(activation='logistic'), xtrain_tfidf_ngram, y_train, xtest_tfidf_ngram, y_test)\n",
    "print(\"LR  for L1, N-Gram Vectors: \", accuracy_L1)"
   ]
  },
  {
   "cell_type": "code",
   "execution_count": 43,
   "metadata": {},
   "outputs": [
    {
     "name": "stdout",
     "output_type": "stream",
     "text": [
      "SVC  for L1, Count Vectors:  0.9165205191160997\n",
      "SVC  for L1, WordLevel TF-IDF:  0.9144159943879341\n",
      "SVC  for L1, N-Gram Vectors:  0.9231848474219572\n"
     ]
    }
   ],
   "source": [
    "# SVM\n",
    "\n",
    "from sklearn import svm\n",
    "\n",
    "#Linear SVC\n",
    "# Linear SVC on Count Vectors and TF-IDF\n",
    "accuracy_L1 = train_model(svm.LinearSVC(), X_train_tfidf, y_train, X_test_tfidf, y_test)\n",
    "print(\"SVC  for L1, Count Vectors: \", accuracy_L1)\n",
    "\n",
    "\n",
    "# Linear SVC on Word Level TF IDF Vectors\n",
    "accuracy_L1 = train_model(svm.LinearSVC(), xtrain_count, y_train, xtest_count, y_test)\n",
    "print(\"SVC  for L1, WordLevel TF-IDF: \", accuracy_L1)\n",
    "\n",
    "# Linear SVC on Ngram Level TF IDF Vectors\n",
    "accuracy_L1 = train_model(svm.LinearSVC(), xtrain_tfidf_ngram, y_train, xtest_tfidf_ngram, y_test)\n",
    "print(\"SVC  for L1, N-Gram Vectors: \", accuracy_L1)\n"
   ]
  },
  {
   "cell_type": "markdown",
   "metadata": {},
   "source": [
    "Best accuracy is achieved with Random-Forest classifier, that too with word-level TF-IDF."
   ]
  },
  {
   "cell_type": "code",
   "execution_count": 39,
   "metadata": {},
   "outputs": [
    {
     "name": "stdout",
     "output_type": "stream",
     "text": [
      "0.9449316029463346\n"
     ]
    }
   ],
   "source": [
    "# Final Supervised-model to classify job as It or non-IT, based on the job text data i.e. Required-qualification.\n",
    "\n",
    "mdl=RandomForestClassifier()\n",
    "mdl.fit(xtrain_count, y_train)\n",
    "pred=mdl.predict(xtest_count)\n",
    "print(metrics.accuracy_score(pred,y_test))"
   ]
  },
  {
   "cell_type": "code",
   "execution_count": 41,
   "metadata": {},
   "outputs": [
    {
     "data": {
      "text/plain": [
       "Text(0.5, 15.0, 'Predicted label')"
      ]
     },
     "execution_count": 41,
     "metadata": {},
     "output_type": "execute_result"
    },
    {
     "data": {
      "image/png": "[encoded data removed]",
      "text/plain": [
       "<Figure size 432x288 with 2 Axes>"
      ]
     },
     "metadata": {
      "needs_background": "light"
     },
     "output_type": "display_data"
    }
   ],
   "source": [
    "import seaborn as sns\n",
    "\n",
    "cm = metrics.confusion_matrix(y_test, pred)\n",
    "sns.heatmap(cm, annot=True,  fmt='.2f', xticklabels = [\"no\", \"Yes\"] , yticklabels = [\"No\", \"Yes\"] )\n",
    "plt.ylabel('True label')\n",
    "plt.xlabel('Predicted label')"
   ]
  },
  {
   "cell_type": "markdown",
   "metadata": {},
   "source": [
    "Unsupervised learning techniques, such as topic modelling and other techniques such as term frequency counting,time period segmented dataset; qualitative assessment will be done on the results to help us understand the job postings."
   ]
  },
  {
   "cell_type": "code",
   "execution_count": 15,
   "metadata": {},
   "outputs": [
    {
     "data": {
      "text/plain": [
       "['knowledge education higher relevant experience field english russian work languages',\n",
       " 'communicative timely punctual openminded selfconfident manner eager complete email skills',\n",
       " 'driving license knowledge medical skills work education pharmaceutical russian experience',\n",
       " 'sql knowledge net c server experience aspnet development work good',\n",
       " 'skills ability marketing experience business management work sales knowledge strong',\n",
       " 'skills knowledge excellent russian armenian languages work good strong experience',\n",
       " 'personality fast accept learner criticism player good ability motivated team',\n",
       " 'adobe photoshop draw corel illustrator design graphic knowledge flash work',\n",
       " 'accounting finance knowledge tax armenian standards work financial experience software',\n",
       " 'skills excellent work knowledge ability languages russian ms armenian office',\n",
       " 'experience skills ability management international work knowledge excellent degree armenian',\n",
       " 'banking knowledge skills bank work law financial legislation experience economics',\n",
       " 'experience knowledge web development html php java javascript css mysql',\n",
       " 'knowledge network windows systems technical experience administration networks server skills',\n",
       " 'testing knowledge experience software development design c programming test skills']"
      ]
     },
     "execution_count": 15,
     "metadata": {},
     "output_type": "execute_result"
    }
   ],
   "source": [
    "# train a LDA Model\n",
    "\n",
    "from sklearn.decomposition import LatentDirichletAllocation\n",
    "\n",
    "lda_model =LatentDirichletAllocation(n_components=15, learning_method='batch', max_iter=50)\n",
    "X_topics = lda_model.fit_transform(X_train_tfidf)\n",
    "topic_word = lda_model.components_ \n",
    "vocab = count_vect.get_feature_names()\n",
    "\n",
    "# view the topic models\n",
    "n_top_words = 10\n",
    "topic_summaries = []\n",
    "for i, topic_dist in enumerate(topic_word):\n",
    "    topic_words = np.array(vocab)[np.argsort(topic_dist)][:-(n_top_words+1):-1]\n",
    "    topic_summaries.append(' '.join(topic_words))\n",
    "\n",
    "topic_summaries"
   ]
  },
  {
   "cell_type": "code",
   "execution_count": 48,
   "metadata": {},
   "outputs": [
    {
     "data": {
      "text/plain": [
       "<matplotlib.image.AxesImage at 0x1baf4151b48>"
      ]
     },
     "execution_count": 48,
     "metadata": {},
     "output_type": "execute_result"
    },
    {
     "data": {
      "image/png": "[encoded data removed]",
      "text/plain": [
       "<Figure size 14400x1800 with 1 Axes>"
      ]
     },
     "metadata": {
      "needs_background": "light"
     },
     "output_type": "display_data"
    }
   ],
   "source": [
    "# Creation of word-cloud.\n",
    "\n",
    "from wordcloud import WordCloud ,STOPWORDS\n",
    "\n",
    "wordcloud = WordCloud(stopwords=[]).generate(' '.join(X_train.tolist()))\n",
    "fig = plt.figure(figsize=(200,25))\n",
    "plt.imshow(wordcloud)"
   ]
  },
  {
   "cell_type": "markdown",
   "metadata": {},
   "source": [
    "Unsupervised Learning, to understand the desired characteristics and skill-sets demanded by employers in the job ads."
   ]
  },
  {
   "cell_type": "code",
   "execution_count": 16,
   "metadata": {},
   "outputs": [],
   "source": [
    "u1=posting[['RequiredQual']]"
   ]
  },
  {
   "cell_type": "code",
   "execution_count": 17,
   "metadata": {},
   "outputs": [],
   "source": [
    "u1['RequiredQual'] = u1['RequiredQual'].astype(str)"
   ]
  },
  {
   "cell_type": "code",
   "execution_count": 18,
   "metadata": {},
   "outputs": [
    {
     "data": {
      "text/plain": [
       "0    to perform this job successfully, an\\nindividu...\n",
       "1    - bachelor's degree; master's is preferred;\\n-...\n",
       "2    - degree in environmentally related field, or ...\n",
       "Name: RequiredQual, dtype: object"
      ]
     },
     "execution_count": 18,
     "metadata": {},
     "output_type": "execute_result"
    }
   ],
   "source": [
    "def clean(text):\n",
    "    text=re.sub(r'!\"#$%&()*,-./:;<=>?@\\[]^_`{|}~','', text)  # Remove punctuations\n",
    "    text=text.lower()                                        # Convert text to lower\n",
    "    return(text)\n",
    "\n",
    "u1['RequiredQual']=u1['RequiredQual'].apply(lambda x:clean(x))\n",
    "u1['RequiredQual'].head(3)"
   ]
  },
  {
   "cell_type": "code",
   "execution_count": 19,
   "metadata": {},
   "outputs": [
    {
     "data": {
      "text/plain": [
       "TfidfVectorizer(analyzer='word', binary=False, decode_error='strict',\n",
       "                dtype=<class 'numpy.float64'>, encoding='utf-8',\n",
       "                input='content', lowercase=True, max_df=0.9, max_features=None,\n",
       "                min_df=0.1, ngram_range=(1, 4), norm='l2', preprocessor=None,\n",
       "                smooth_idf=True, stop_words='english', strip_accents=None,\n",
       "                sublinear_tf=False, token_pattern='(?u)\\\\b\\\\w\\\\w+\\\\b',\n",
       "                tokenizer=None, use_idf=True, vocabulary=None)"
      ]
     },
     "execution_count": 19,
     "metadata": {},
     "output_type": "execute_result"
    }
   ],
   "source": [
    "# tokenize text with Tfidf, with uni-gram, bi-gram, tri-gram & quad-gram.\n",
    "\n",
    "vectorizer = TfidfVectorizer(min_df = 0.1, max_df=0.9,\n",
    "                             ngram_range=(1, 4), \n",
    "                             stop_words='english')\n",
    "vectorizer.fit(u1['RequiredQual'])"
   ]
  },
  {
   "cell_type": "code",
   "execution_count": 20,
   "metadata": {},
   "outputs": [
    {
     "data": {
      "text/plain": [
       "['ability',\n",
       " 'ability work',\n",
       " 'ability work pressure',\n",
       " 'accounting',\n",
       " 'advanced',\n",
       " 'analytical',\n",
       " 'armenian',\n",
       " 'armenian english',\n",
       " 'armenian russian',\n",
       " 'armenian russian english']"
      ]
     },
     "execution_count": 20,
     "metadata": {},
     "output_type": "execute_result"
    }
   ],
   "source": [
    "X_train = vectorizer.transform(u1['RequiredQual'])\n",
    "vocab = vectorizer.get_feature_names()\n",
    "vocab[:10]"
   ]
  },
  {
   "cell_type": "code",
   "execution_count": 21,
   "metadata": {},
   "outputs": [
    {
     "data": {
      "text/plain": [
       "TfidfVectorizer(analyzer='word', binary=False, decode_error='strict',\n",
       "                dtype=<class 'numpy.float64'>, encoding='utf-8',\n",
       "                input='content', lowercase=True, max_df=0.95, max_features=None,\n",
       "                min_df=0.05, ngram_range=(1, 2), norm='l2', preprocessor=None,\n",
       "                smooth_idf=True, stop_words='english', strip_accents=None,\n",
       "                sublinear_tf=False, token_pattern='(?u)\\\\b\\\\w\\\\w+\\\\b',\n",
       "                tokenizer=None, use_idf=True, vocabulary=None)"
      ]
     },
     "execution_count": 21,
     "metadata": {},
     "output_type": "execute_result"
    }
   ],
   "source": [
    "# get the tf-idf table, with uni-gram & bi-gram  \n",
    "\n",
    "vectorizer1 = TfidfVectorizer(min_df = 0.05, max_df=0.95,\n",
    "                             ngram_range=(1, 2), \n",
    "                             stop_words='english')\n",
    "vectorizer1.fit(u1['RequiredQual'])"
   ]
  },
  {
   "cell_type": "code",
   "execution_count": 22,
   "metadata": {},
   "outputs": [],
   "source": [
    "# Create a training data\n",
    "\n",
    "X_train = vectorizer1.transform(u1['RequiredQual'])"
   ]
  },
  {
   "cell_type": "code",
   "execution_count": 23,
   "metadata": {},
   "outputs": [
    {
     "name": "stdout",
     "output_type": "stream",
     "text": [
      "Explained variance of the SVD step: 99%\n"
     ]
    }
   ],
   "source": [
    "# Use SVD to reduce dimensions\n",
    "\n",
    "from sklearn.decomposition import TruncatedSVD\n",
    "from sklearn.preprocessing import Normalizer\n",
    "from sklearn.pipeline import make_pipeline\n",
    "\n",
    "svd = TruncatedSVD(200)\n",
    "normalizer = Normalizer(copy=False)\n",
    "lsa = make_pipeline(svd, normalizer)\n",
    "X_lsa = lsa.fit_transform(X_train)\n",
    "\n",
    "explained_variance = svd.explained_variance_ratio_.sum()\n",
    "print(\"Explained variance of the SVD step: {}%\".format(int(explained_variance * 100)))"
   ]
  },
  {
   "cell_type": "code",
   "execution_count": 79,
   "metadata": {},
   "outputs": [
    {
     "name": "stdout",
     "output_type": "stream",
     "text": [
      "For n_clusters = 4, silhouette score is 0.03152354695229374\n",
      "For n_clusters = 5, silhouette score is 0.03290014106368422\n",
      "For n_clusters = 6, silhouette score is 0.03236467909167405\n",
      "For n_clusters = 7, silhouette score is 0.03391149407540714\n",
      "For n_clusters = 8, silhouette score is 0.03383335323716373\n",
      "For n_clusters = 9, silhouette score is 0.029356770801074055\n",
      "For n_clusters = 10, silhouette score is 0.03307377192884578\n"
     ]
    }
   ],
   "source": [
    "from sklearn.metrics import silhouette_score\n",
    "\n",
    "for n_clusters in np.arange(4,11):\n",
    "    clusterer = KMeans(n_clusters=n_clusters)\n",
    "    preds = clusterer.fit_predict(X_lsa)\n",
    "    centers = clusterer.cluster_centers_\n",
    "\n",
    "    score = silhouette_score(X_lsa, preds, metric='euclidean')\n",
    "    print(\"For n_clusters = {}, silhouette score is {}\".format(n_clusters, score))"
   ]
  },
  {
   "cell_type": "code",
   "execution_count": 80,
   "metadata": {},
   "outputs": [
    {
     "data": {
      "text/plain": [
       "KMeans(algorithm='auto', copy_x=True, init='k-means++', max_iter=100,\n",
       "       n_clusters=7, n_init=1, n_jobs=None, precompute_distances='auto',\n",
       "       random_state=5, tol=0.0001, verbose=0)"
      ]
     },
     "execution_count": 80,
     "metadata": {},
     "output_type": "execute_result"
    }
   ],
   "source": [
    "model = KMeans(n_clusters=7, \n",
    "               init='k-means++', \n",
    "               max_iter=100, n_init=1,random_state=5)\n",
    "res = model.fit(X_train)\n",
    "res"
   ]
  },
  {
   "cell_type": "code",
   "execution_count": 119,
   "metadata": {},
   "outputs": [
    {
     "name": "stdout",
     "output_type": "stream",
     "text": [
      "Top-10 words from each of 7 clusters: \n",
      "\n",
      "\n",
      "{'work experience', 'language', 'experience', 'years', 'relevant', 'degree', 'knowledge', 'english language', 'english', 'work'}\n",
      "{'language', 'relevant', 'programming', 'degree', 'software', 'design', 'good', 'english', 'development', 'work experience', 'experience', 'years', 'web', 'ability', 'knowledge', 'english language', 'skills', 'work'}\n",
      "{'language', 'management', 'relevant', 'international', 'programming', 'degree', 'software', 'design', 'good', 'english', 'development', 'work experience', 'experience', 'years', 'web', 'ability', 'knowledge', 'business', 'excellent', 'english language', 'skills', 'strong', 'work'}\n",
      "{'language', 'management', 'relevant', 'international', 'programming', 'degree', 'software', 'design', 'good', 'pressure', 'english', 'development', 'skills ability', 'work experience', 'experience', 'years', 'web', 'ability work', 'ability', 'work pressure', 'knowledge', 'business', 'excellent', 'english language', 'skills', 'strong', 'work'}\n",
      "{'language', 'management', 'languages', 'relevant', 'international', 'programming', 'degree', 'software', 'design', 'russian', 'good', 'university', 'pressure', 'english', 'development', 'skills ability', 'work experience', 'experience', 'years', 'web', 'ability work', 'ability', 'armenian', 'work pressure', 'knowledge', 'business', 'excellent', 'english language', 'skills', 'strong', 'work'}\n",
      "{'management', 'languages', 'relevant', 'international', 'financial', 'software', 'design', 'english', 'finance', 'armenian', 'knowledge', 'english language', 'strong', 'work', 'language', 'accounting', 'programming', 'degree', 'russian', 'good', 'university', 'standards', 'pressure', 'development', 'skills ability', 'work experience', 'experience', 'years', 'web', 'ability work', 'ability', 'work pressure', 'business', 'excellent', 'skills'}\n",
      "{'management', 'languages', 'relevant', 'international', 'financial', 'software', 'design', 'english', 'finance', 'education', 'armenian', 'knowledge', 'english language', 'strong', 'work', 'language', 'accounting', 'programming', 'degree', 'russian', 'good', 'university', 'standards', 'pressure', 'higher', 'development', 'skills ability', 'higher education', 'work experience', 'experience', 'years', 'web', 'ability work', 'ability', 'work pressure', 'business', 'excellent', 'skills'}\n"
     ]
    }
   ],
   "source": [
    "# Getting the vocalbulary as well as cluster centers\n",
    "\n",
    "# Firstly, set of words from the tf-idf itself\n",
    "vocab = vectorizer1.get_feature_names()\n",
    "vocab = np.array(vocab)\n",
    "\n",
    "# Then, the cluster centers from the model fit that we stored on res\n",
    "cluster_centers = np.array(res.cluster_centers_)\n",
    "\n",
    "# sorting the cluster centers\n",
    "sorted_vals = [res.cluster_centers_[i].argsort() for i in range(0,np.shape(res.cluster_centers_)[0])]\n",
    "\n",
    "# get top 10 words from that cluster\n",
    "print('Top-10 words from each of 7 clusters: ')\n",
    "print('\\n')\n",
    "words=set()\n",
    "for i in range(len(res.cluster_centers_)):\n",
    "    words = words.union(set(vocab[sorted_vals[i][-10:]]))\n",
    "    print(words)"
   ]
  },
  {
   "cell_type": "code",
   "execution_count": null,
   "metadata": {},
   "outputs": [],
   "source": []
  },
  {
   "cell_type": "markdown",
   "metadata": {},
   "source": [
    "The top 5 most similar job posting"
   ]
  },
  {
   "cell_type": "code",
   "execution_count": 24,
   "metadata": {},
   "outputs": [],
   "source": [
    "import spacy\n",
    "from spacy import displacy\n",
    "from spacy.matcher import Matcher\n",
    "\n",
    "nlp = spacy.load('en_core_web_sm')"
   ]
  },
  {
   "cell_type": "code",
   "execution_count": 30,
   "metadata": {},
   "outputs": [
    {
     "data": {
      "text/plain": [
       "0    Mentor Graphics Development Services CJSC is a...\n",
       "1    The International Research & Exchanges Board (...\n",
       "2    The Caucasus Environmental NGO Network is a\\nn...\n",
       "3    Mentor Graphics Development Services CJSC is a...\n",
       "4    Mentor Graphics Development Services CJSC is a...\n",
       "Name: AboutC, dtype: object"
      ]
     },
     "execution_count": 30,
     "metadata": {},
     "output_type": "execute_result"
    }
   ],
   "source": [
    "jb_posting['AboutC']=jb_posting['AboutC'].fillna(jb_posting['AboutC'].mode().iloc[0])\n",
    "jb_posting['AboutC'].head()"
   ]
  },
  {
   "cell_type": "code",
   "execution_count": 31,
   "metadata": {},
   "outputs": [],
   "source": [
    "matcher = Matcher(nlp.vocab)\n",
    "\n",
    "def collect_sents(matcher, doc, i, matches):\n",
    "    match_id, start, end = matches[i]\n",
    "    span = doc[start : end]  # matched span\n",
    "    sent = span.sent  # sentence containing matched span\n",
    "    match_ents = [{'start': span.start_char - sent.start_char,\n",
    "                   'end': span.end_char - sent.start_char,\n",
    "                   'label': 'MATCH'}]\n",
    "    matched_sents.append({'text': sent.text, 'ents': match_ents })"
   ]
  },
  {
   "cell_type": "code",
   "execution_count": 32,
   "metadata": {},
   "outputs": [],
   "source": [
    "patn1 = [{'POS':'ADJ'},{'ORTH': '-'}, {'POS':'NOUN', 'OP':'+'}, {'LOWER': 'organization'}]\n",
    "patn2 = [{'POS':'NOUN', 'OP':'+'}, {'LOWER': 'organization'}]\n",
    "patn3 = [{'POS':'NOUN', 'OP':'+'}, {'LOWER': 'company'}]\n",
    "patn4 = [{'POS':'NOUN', 'OP':'+'}, {'LOWER': 'services'}]\n",
    "patn5 = [{'LOWER': 'company'}, {'POS':'VERB'}, {'POS':'NOUN', 'OP':'+'}]\n",
    "patn6 = [{'LOWER':'provider'}, {'POS':'ADP'}, {'POS':'NOUN',  'OP': '+'}  , {'POS':'CCONJ','OP':'+'}, {'POS':'NOUN','OP':'+'}]\n",
    "patn7 = [{'LOWER':'provider'}, {'POS':'ADP'}, {'POS':'NOUN',  'OP': '+'}]\n",
    "patn8 = [{'POS':'VERB'}, {'POS':'NOUN',  'OP': '+'} ]\n",
    "patn9 = [{'POS':'ADJ'}, {'POS':'NOUN',  'OP': '+'} ]\n",
    "patn10 = [{'POS':'NOUN'}, {'POS':'ADP'}, {'POS':'NOUN',  'OP': '+'} ]\n",
    "patn11 = [{'POS':'NOUN'}, {'POS':'NOUN','OP':'+'} ]\n",
    "\n",
    "matcher.add('all', collect_sents, patn1, patn2, patn3, patn4, patn5, patn6, patn7, patn8, patn9, patn10, patn11)"
   ]
  },
  {
   "cell_type": "code",
   "execution_count": 34,
   "metadata": {},
   "outputs": [
    {
     "data": {
      "image/png": "[encoded data removed]",
      "text/plain": [
       "<Figure size 1800x720 with 1 Axes>"
      ]
     },
     "metadata": {
      "needs_background": "light"
     },
     "output_type": "display_data"
    }
   ],
   "source": [
    "matched_sents=[]\n",
    "for t in jb_posting.AboutC:\n",
    "    if pd.notnull(t) and t != 'NaN':\n",
    "        t = re.sub(r'\\s+', ' ', t)\n",
    "        doc = nlp(t)\n",
    "        matches = matcher(doc)\n",
    "        token_set = []\n",
    "        for match_id, start, end in matches:\n",
    "            string_id = nlp.vocab.strings[match_id]  # get string representation\n",
    "            span = doc[start:end]  # the matched span\n",
    "            token_set.append(span.text)    \n",
    "        matched_sents.append(token_set)\n",
    "        \n",
    "flat_list = []\n",
    "for row in matched_sents:\n",
    "    for token in row:\n",
    "        flat_list.append(token)\n",
    "\n",
    "plt.figure(figsize=(25, 10))\n",
    "fd = nltk.FreqDist(flat_list)  # case sensitive!\n",
    "fd.most_common(50)\n",
    "fd.plot(50)\n",
    "plt.show()"
   ]
  },
  {
   "cell_type": "markdown",
   "metadata": {},
   "source": [
    "Job-Similarity"
   ]
  },
  {
   "cell_type": "code",
   "execution_count": 37,
   "metadata": {},
   "outputs": [],
   "source": [
    "from nltk.tokenize import word_tokenize"
   ]
  },
  {
   "cell_type": "code",
   "execution_count": 35,
   "metadata": {},
   "outputs": [],
   "source": [
    "js=df1=jb_posting[['jobpost','Title','JobRequirment','JobDescription','RequiredQual']]"
   ]
  },
  {
   "cell_type": "code",
   "execution_count": 38,
   "metadata": {},
   "outputs": [],
   "source": [
    "js['JobDescription_token'] = js['JobDescription'].map(word_tokenize)\n",
    "js['RequiredQual_token'] = js['RequiredQual'].map(word_tokenize)\n",
    "js['JobRequirment_token'] = js['JobRequirment'].map(word_tokenize)\n",
    "\n",
    "tfidf_model = TfidfVectorizer()\n",
    "Title_tfidf = tfidf_model.fit_transform(df1['Title'])\n",
    "JobDescription_tfidf = tfidf_model.fit_transform(js['JobDescription'])\n",
    "RequiredQual_tfidf = tfidf_model.fit_transform(js['RequiredQual'])\n",
    "JobRequirment_tfidf = tfidf_model.fit_transform(js['JobRequirment'])"
   ]
  },
  {
   "cell_type": "code",
   "execution_count": 39,
   "metadata": {},
   "outputs": [],
   "source": [
    "from sklearn.metrics.pairwise import cosine_similarity\n",
    "\n",
    "def find_similar_jobs_tfidf(index, top_n = 5):\n",
    "    Title_tfidf_cosine = cosine_similarity(Title_tfidf[index:index+1], Title_tfidf).flatten()\n",
    "    JobDescription_tfidf_cosine = cosine_similarity(JobDescription_tfidf[index:index+1], JobDescription_tfidf).flatten()\n",
    "    RequiredQual_tfidf_cosine = cosine_similarity(RequiredQual_tfidf[index:index+1], RequiredQual_tfidf).flatten()\n",
    "    JobRequirment_tfidf_cosine = cosine_similarity(JobRequirment_tfidf[index:index+1], JobRequirment_tfidf).flatten()\n",
    "\n",
    "    average_cosine = (Title_tfidf_cosine +JobDescription_tfidf_cosine+RequiredQual_tfidf_cosine+JobRequirment_tfidf_cosine)/4.0\n",
    "    related_docs_indices = [i for i in average_cosine.argsort()[::-1] if i != index]\n",
    "    return [(index, average_cosine[index]) for index in related_docs_indices][0:top_n]"
   ]
  },
  {
   "cell_type": "code",
   "execution_count": 40,
   "metadata": {},
   "outputs": [
    {
     "data": {
      "text/plain": [
       "jobpost                 AMERIA Investment Consulting Company\\nJOB TITL...\n",
       "Title                                             Chief Financial Officer\n",
       "JobRequirment           - Supervises financial management and administ...\n",
       "JobDescription          AMERIA Investment Consulting Company is seekin...\n",
       "RequiredQual            To perform this job successfully, an\\nindividu...\n",
       "JobDescription_token    [AMERIA, Investment, Consulting, Company, is, ...\n",
       "RequiredQual_token      [To, perform, this, job, successfully, ,, an, ...\n",
       "JobRequirment_token     [-, Supervises, financial, management, and, ad...\n",
       "Name: 0, dtype: object"
      ]
     },
     "execution_count": 40,
     "metadata": {},
     "output_type": "execute_result"
    }
   ],
   "source": [
    "js.iloc[0]"
   ]
  },
  {
   "cell_type": "markdown",
   "metadata": {},
   "source": [
    "So, this index number contains job related to \"Finance-management supervisor\", as evident from 'JobRequirment'. Below we'll find jobs similar to this job-posting."
   ]
  },
  {
   "cell_type": "code",
   "execution_count": 42,
   "metadata": {},
   "outputs": [
    {
     "name": "stdout",
     "output_type": "stream",
     "text": [
      "jobpost                 Organization for Implementation of North-South...\n",
      "Title                                             Chief Financial Officer\n",
      "JobRequirment           Financial management of the NSRCIP T1 & T2 pro...\n",
      "JobDescription          The Chief Financial Officer (CFO) will support...\n",
      "RequiredQual            - Degree in Accounting, Finance, Business, Law...\n",
      "JobDescription_token    [The, Chief, Financial, Officer, (, CFO, ), wi...\n",
      "RequiredQual_token      [-, Degree, in, Accounting, ,, Finance, ,, Bus...\n",
      "JobRequirment_token     [Financial, management, of, the, NSRCIP, T1, &...\n",
      "Name: 12368, dtype: object\n",
      "SIMILARITY SCORE:  0.49834474358571085\n",
      "jobpost                 River Island\\nTITLE:  Chief Financial Officer\\...\n",
      "Title                                             Chief Financial Officer\n",
      "JobRequirment           - Develop tools and systems to provide critica...\n",
      "JobDescription          River Island is seeking a Chief Financial Offi...\n",
      "RequiredQual            - Master's degree in Management, Finance or Ec...\n",
      "JobDescription_token    [River, Island, is, seeking, a, Chief, Financi...\n",
      "RequiredQual_token      [-, Master, 's, degree, in, Management, ,, Fin...\n",
      "JobRequirment_token     [-, Develop, tools, and, systems, to, provide,...\n",
      "Name: 11223, dtype: object\n",
      "SIMILARITY SCORE:  0.4878202719219839\n",
      "jobpost                 \"Gritti\" LLC\\nTITLE:  Chief Financial Officer\\...\n",
      "Title                                             Chief Financial Officer\n",
      "JobRequirment           General Responsibilities:   \\n- Assist in perf...\n",
      "JobDescription          Gritti LLC is inviting highly qualified\\nprofe...\n",
      "RequiredQual            - Master's or equivalent university degree in ...\n",
      "JobDescription_token    [Gritti, LLC, is, inviting, highly, qualified,...\n",
      "RequiredQual_token      [-, Master, 's, or, equivalent, university, de...\n",
      "JobRequirment_token     [General, Responsibilities, :, -, Assist, in, ...\n",
      "Name: 8120, dtype: object\n",
      "SIMILARITY SCORE:  0.4805931616423099\n",
      "jobpost                 Armenian Datacom Company CJSC\\nTITLE:  Chief F...\n",
      "Title                                             Chief Financial Officer\n",
      "JobRequirment           Responsibilities include but are not limited t...\n",
      "JobDescription          Armenian Datacom Company (ADC) is seeking a hi...\n",
      "RequiredQual            - Master's degree in Accounting, Finance;\\n- 5...\n",
      "JobDescription_token    [Armenian, Datacom, Company, (, ADC, ), is, se...\n",
      "RequiredQual_token      [-, Master, 's, degree, in, Accounting, ,, Fin...\n",
      "JobRequirment_token     [Responsibilities, include, but, are, not, lim...\n",
      "Name: 8319, dtype: object\n",
      "SIMILARITY SCORE:  0.4775631289897381\n",
      "jobpost                 \"Ameriabank\" CJSC\\nTITLE:  Chief Financial Off...\n",
      "Title                                             Chief Financial Officer\n",
      "JobRequirment           - Direct and oversee all aspects of the Financ...\n",
      "JobDescription          The incumbent will be responsible for coordina...\n",
      "RequiredQual            - University degree in Finance, Accounting and...\n",
      "JobDescription_token    [The, incumbent, will, be, responsible, for, c...\n",
      "RequiredQual_token      [-, University, degree, in, Finance, ,, Accoun...\n",
      "JobRequirment_token     [-, Direct, and, oversee, all, aspects, of, th...\n",
      "Name: 10626, dtype: object\n",
      "SIMILARITY SCORE:  0.45369360096104916\n"
     ]
    }
   ],
   "source": [
    "for index, score in find_similar_jobs_tfidf(0):\n",
    "    print(df1.iloc[index])\n",
    "    print(\"SIMILARITY SCORE: \", score)"
   ]
  },
  {
   "cell_type": "code",
   "execution_count": 44,
   "metadata": {},
   "outputs": [
    {
     "data": {
      "text/plain": [
       "jobpost                 International Research & Exchanges Board (IREX...\n",
       "Title                   Full-time Community Connections Intern (paid i...\n",
       "JobRequirment           - Participate in application design;\\n- Provid...\n",
       "JobDescription          The incumbent will work under the direct super...\n",
       "RequiredQual            - Bachelor's Degree; Master's is preferred;\\n-...\n",
       "JobDescription_token    [The, incumbent, will, work, under, the, direc...\n",
       "RequiredQual_token      [-, Bachelor, 's, Degree, ;, Master, 's, is, p...\n",
       "JobRequirment_token     [-, Participate, in, application, design, ;, -...\n",
       "Name: 1, dtype: object"
      ]
     },
     "execution_count": 44,
     "metadata": {},
     "output_type": "execute_result"
    }
   ],
   "source": [
    "js.iloc[1]"
   ]
  },
  {
   "cell_type": "code",
   "execution_count": 46,
   "metadata": {},
   "outputs": [
    {
     "name": "stdout",
     "output_type": "stream",
     "text": [
      "jobpost                 International Research & Exchanges Board (IREX...\n",
      "Title                    Non-paid part or full time Administrative Intern\n",
      "JobRequirment           - Participate in application design;\\n- Provid...\n",
      "JobDescription          The incumbent will work under the direct super...\n",
      "RequiredQual            - Excellent communication skills;\\n- Good oral...\n",
      "JobDescription_token    [The, incumbent, will, work, under, the, direc...\n",
      "RequiredQual_token      [-, Excellent, communication, skills, ;, -, Go...\n",
      "JobRequirment_token     [-, Participate, in, application, design, ;, -...\n",
      "Name: 11, dtype: object\n",
      "SIMILARITY SCORE:  0.6798353526927008\n",
      "jobpost                 International Research & Exchanges Board (IREX...\n",
      "Title                      Non-paid part or full time Programmatic Intern\n",
      "JobRequirment           - Participate in application design;\\n- Provid...\n",
      "JobDescription          The incumbent will work under the direct super...\n",
      "RequiredQual            - Excellent communication skills;\\n- Good oral...\n",
      "JobDescription_token    [The, incumbent, will, work, under, the, direc...\n",
      "RequiredQual_token      [-, Excellent, communication, skills, ;, -, Go...\n",
      "JobRequirment_token     [-, Participate, in, application, design, ;, -...\n",
      "Name: 7, dtype: object\n",
      "SIMILARITY SCORE:  0.6716822690566762\n",
      "jobpost                 Military Institute MoD RA\\nJOB TITLE:   IT Tea...\n",
      "Title                                             IT Teacher  (full time)\n",
      "JobRequirment           - Participate in application design;\\n- Provid...\n",
      "JobDescription          The incumbent will work under the direct super...\n",
      "RequiredQual            - Degree in Computer Science, Information Tech...\n",
      "JobDescription_token    [The, incumbent, will, work, under, the, direc...\n",
      "RequiredQual_token      [-, Degree, in, Computer, Science, ,, Informat...\n",
      "JobRequirment_token     [-, Participate, in, application, design, ;, -...\n",
      "Name: 114, dtype: object\n",
      "SIMILARITY SCORE:  0.6687114180764095\n",
      "jobpost                 International Research & Exchanges Board (IREX...\n",
      "Title                              Administrative and Programmatic Intern\n",
      "JobRequirment           - Participate in application design;\\n- Provid...\n",
      "JobDescription          The incumbent will work under the direct super...\n",
      "RequiredQual            - Fluency in English and Armenian;\\n- Good com...\n",
      "JobDescription_token    [The, incumbent, will, work, under, the, direc...\n",
      "RequiredQual_token      [-, Fluency, in, English, and, Armenian, ;, -,...\n",
      "JobRequirment_token     [-, Participate, in, application, design, ;, -...\n",
      "Name: 127, dtype: object\n",
      "SIMILARITY SCORE:  0.6407142942564401\n",
      "jobpost                 International Research & Exchanges Board (IREX...\n",
      "Title                              Administrative and Programmatic Intern\n",
      "JobRequirment           - Participate in application design;\\n- Provid...\n",
      "JobDescription          The incumbent will work under the direct super...\n",
      "RequiredQual            - Fluency in English and Armenian;\\n- Good com...\n",
      "JobDescription_token    [The, incumbent, will, work, under, the, direc...\n",
      "RequiredQual_token      [-, Fluency, in, English, and, Armenian, ;, -,...\n",
      "JobRequirment_token     [-, Participate, in, application, design, ;, -...\n",
      "Name: 125, dtype: object\n",
      "SIMILARITY SCORE:  0.6407142942564401\n"
     ]
    }
   ],
   "source": [
    "# Job similar to 'IREX board'.\n",
    "\n",
    "for index, score in find_similar_jobs_tfidf(1):\n",
    "    print(df1.iloc[index])\n",
    "    print(\"SIMILARITY SCORE: \", score)"
   ]
  },
  {
   "cell_type": "code",
   "execution_count": 47,
   "metadata": {},
   "outputs": [
    {
     "data": {
      "text/plain": [
       "jobpost                 Caucasus Environmental NGO Network (CENN)\\nJOB...\n",
       "Title                                                 Country Coordinator\n",
       "JobRequirment           - Working with the Country Director to provide...\n",
       "JobDescription          Public outreach and strengthening of a growing...\n",
       "RequiredQual            - Degree in environmentally related field, or ...\n",
       "JobDescription_token    [Public, outreach, and, strengthening, of, a, ...\n",
       "RequiredQual_token      [-, Degree, in, environmentally, related, fiel...\n",
       "JobRequirment_token     [-, Working, with, the, Country, Director, to,...\n",
       "Name: 2, dtype: object"
      ]
     },
     "execution_count": 47,
     "metadata": {},
     "output_type": "execute_result"
    }
   ],
   "source": [
    "js.iloc[2]"
   ]
  },
  {
   "cell_type": "code",
   "execution_count": 48,
   "metadata": {},
   "outputs": [
    {
     "name": "stdout",
     "output_type": "stream",
     "text": [
      "jobpost                 Caucasus Environmental NGO Network\\nTITLE:  Co...\n",
      "Title                                       Country Coordinator - Armenia\n",
      "JobRequirment           -  Write first hand articles, conduct intervie...\n",
      "JobDescription          CENN - Caucasus Environmental NGO Network - is...\n",
      "RequiredQual            1. Education: University education in environm...\n",
      "JobDescription_token    [CENN, -, Caucasus, Environmental, NGO, Networ...\n",
      "RequiredQual_token      [1, ., Education, :, University, education, in...\n",
      "JobRequirment_token     [-, Write, first, hand, articles, ,, conduct, ...\n",
      "Name: 404, dtype: object\n",
      "SIMILARITY SCORE:  0.4320651188012762\n",
      "jobpost                 Veya  Ltd.\\n\\n\\nTITLE:  Country Coordinator\\n\\...\n",
      "Title                                                 Country Coordinator\n",
      "JobRequirment           - Negotiate with potential customers;\\n- Lobby...\n",
      "JobDescription          Veya Ltd. is looking for a qualified Country\\n...\n",
      "RequiredQual            - At least 5 years of experience in project ma...\n",
      "JobDescription_token    [Veya, Ltd., is, looking, for, a, qualified, C...\n",
      "RequiredQual_token      [-, At, least, 5, years, of, experience, in, p...\n",
      "JobRequirment_token     [-, Negotiate, with, potential, customers, ;, ...\n",
      "Name: 18907, dtype: object\n",
      "SIMILARITY SCORE:  0.3068437092676877\n",
      "jobpost                 Veya Limited\\nTITLE:  Country Coordinator\\nANN...\n",
      "Title                                                 Country Coordinator\n",
      "JobRequirment           - Coordinate activities of the office and staf...\n",
      "JobDescription          Veya Limited needs an experienced Business Man...\n",
      "RequiredQual            - University degree in Middle East Studies, In...\n",
      "JobDescription_token    [Veya, Limited, needs, an, experienced, Busine...\n",
      "RequiredQual_token      [-, University, degree, in, Middle, East, Stud...\n",
      "JobRequirment_token     [-, Coordinate, activities, of, the, office, a...\n",
      "Name: 13497, dtype: object\n",
      "SIMILARITY SCORE:  0.28818121930519003\n",
      "jobpost                 UNFPA\\nTITLE:  Country Action Coordinator\\nDUR...\n",
      "Title                                          Country Action Coordinator\n",
      "JobRequirment           - Provide support in design and implementation...\n",
      "JobDescription          UNFPA, with funding by the European Union, is ...\n",
      "RequiredQual            - Masters degree in Business, Management, Soci...\n",
      "JobDescription_token    [UNFPA, ,, with, funding, by, the, European, U...\n",
      "RequiredQual_token      [-, Masters, degree, in, Business, ,, Manageme...\n",
      "JobRequirment_token     [-, Provide, support, in, design, and, impleme...\n",
      "Name: 2325, dtype: object\n",
      "SIMILARITY SCORE:  0.26715077811635984\n",
      "jobpost                 PricewaterhouseCoopers Limited\\nTITLE:  Countr...\n",
      "Title                                                     Country Manager\n",
      "JobRequirment           - Take all the necessary steps to ensure a wel...\n",
      "JobDescription          Our client, one of the largest group of compan...\n",
      "RequiredQual            - Results-oriented and hands-on professional;\\...\n",
      "JobDescription_token    [Our, client, ,, one, of, the, largest, group,...\n",
      "RequiredQual_token      [-, Results-oriented, and, hands-on, professio...\n",
      "JobRequirment_token     [-, Take, all, the, necessary, steps, to, ensu...\n",
      "Name: 1732, dtype: object\n",
      "SIMILARITY SCORE:  0.26516772190528126\n"
     ]
    }
   ],
   "source": [
    "# Job similar to 'Caucasus Environmental NGO Network.'\n",
    "\n",
    "for index, score in find_similar_jobs_tfidf(2):\n",
    "    print(df1.iloc[index])\n",
    "    print(\"SIMILARITY SCORE: \", score)"
   ]
  },
  {
   "cell_type": "markdown",
   "metadata": {},
   "source": [
    "Pretrained Word2Vec Embedding"
   ]
  },
  {
   "cell_type": "code",
   "execution_count": 50,
   "metadata": {},
   "outputs": [
    {
     "name": "stdout",
     "output_type": "stream",
     "text": [
      "✔ Download and installation successful\n",
      "You can now load the model via spacy.load('en_core_web_lg')\n"
     ]
    }
   ],
   "source": [
    "#spacy.cli.download(\"en_core_web_lg\")"
   ]
  },
  {
   "cell_type": "code",
   "execution_count": 51,
   "metadata": {},
   "outputs": [
    {
     "name": "stdout",
     "output_type": "stream",
     "text": [
      "DOC1:\n",
      "Chief Financial Officer \n",
      "\n",
      "DOC2:\n",
      " Country Coordinator \n",
      "\n",
      " 0.5373299805896293\n"
     ]
    }
   ],
   "source": [
    "nlp = spacy.load('en_core_web_lg')\n",
    "\n",
    "# Original text - Title\n",
    "doc1 = nlp(js.iloc[0]['Title'])\n",
    "doc2 = nlp(js.iloc[2]['Title'])\n",
    "similarity = doc1.similarity(doc2)\n",
    "print(\"DOC1:\\n\" + doc1.text, \"\\n\\nDOC2:\\n\", doc2.text, \"\\n\\n\", similarity)\n"
   ]
  },
  {
   "cell_type": "code",
   "execution_count": 52,
   "metadata": {},
   "outputs": [
    {
     "name": "stdout",
     "output_type": "stream",
     "text": [
      "DOC1:\n",
      "To perform this job successfully, an\n",
      "individual must be able to perform each essential duty satisfactorily.\n",
      "The requirements listed below are representative of the knowledge,\n",
      "skill, and/or ability required.\n",
      "Knowledge of:\n",
      "- Generally accepted accounting principles;\n",
      "- Local accounting standards and legislation;\n",
      "- State reporting requirements pertaining to accounting;\n",
      "- Principles and practices of financial management and budgeting;\n",
      "- Principles and practices of financial systems design and analysis;\n",
      "- Principles and practices of contract management, records management,\n",
      "and risk management;\n",
      "- Principles and practices of management and supervision;\n",
      "- Principles and practices of information systems management.\n",
      "Ability to:\n",
      "- Apply sound fiscal and administrative practices to the company's\n",
      "activities;\n",
      "- Plan, organize and supervise the work of subordinate employees,\n",
      "including training them, assigning and evaluating their work, and\n",
      "providing job performance feedback;\n",
      "- Critically analyze fiscal and administrative policies, practices,\n",
      "procedures, and systems, and recommend and implement changes as needed;\n",
      "- Gather and synthesize financial information from a variety of sources\n",
      "and present it to a variety of audiences with differing financial\n",
      "management and analysis expertise;\n",
      "- Prepare detailed, comprehensive financial reports, including\n",
      "explanatory text;\n",
      "- Operate IBM-compatible personal computer, including word processing,\n",
      "spreadsheet, and database software applications;\n",
      "- Operate specialized software applications that support the financial\n",
      "management and budgeting functions.\n",
      "Qualifications:\n",
      "- A minimum of 5-7 years Accounting/ Corporate Finance/ Banking\n",
      "experience, including a role as a CFO;\n",
      "- Excellent finance and accounting technical skills coupled with a\n",
      "demonstrated knowledge of all key financial functions in an consulting\n",
      "company context - accounting, finance, control, treasury, reserving, and\n",
      "reporting;\n",
      "- Strong financial planning and analytical skills and experience and the\n",
      "ability to work closely with and support the CEO and other executives in\n",
      "strategic development and implementation;\n",
      "- Excellent leadership, management and supervisory track record of\n",
      "attracting, selecting, developing, rewarding and retaining high-caliber,\n",
      "accounting and finance executive and teams who achieve business goals;\n",
      "- An undergraduate degree in finance, business, or other related\n",
      "discipline is required. A CPA, CFA, ACCA or other financial\n",
      "certification is highly preferred, as is a Masters degree in Business\n",
      "Administration, Accounting or Finance;\n",
      "- Fluency in English, Armenian and Russian with outstanding writing\n",
      "skills;\n",
      "- Excellent analytical, communication, teamwork, interpersonal skills;\n",
      "- Need to be well organized and detail-oriented as well as goal/ result\n",
      "driven and able to deal with complex issues. \n",
      "\n",
      "DOC2:\n",
      " - Degree in environmentally related field, or 5 years relevant\n",
      "experience;\n",
      "- Oral and written fluency in Armenian, Russian and English;\n",
      "- Knowledge/ experience of working with environmental issues specific to\n",
      "Armenia is a plus.\n",
      "REMUNERATION:  Salary commensurate with experience. \n",
      "\n",
      " 0.9393332817825393\n"
     ]
    }
   ],
   "source": [
    "# Original text - RequiredQual\n",
    "\n",
    "doc1 = nlp(df1.iloc[0]['RequiredQual'])\n",
    "doc2 = nlp(df1.iloc[2]['RequiredQual'])\n",
    "similarity = doc1.similarity(doc2)\n",
    "print(\"DOC1:\\n\" + doc1.text, \"\\n\\nDOC2:\\n\", doc2.text, \"\\n\\n\", similarity)"
   ]
  },
  {
   "cell_type": "code",
   "execution_count": 53,
   "metadata": {},
   "outputs": [
    {
     "name": "stdout",
     "output_type": "stream",
     "text": [
      "DOC1:\n",
      "To perform this job successfully , an individual must be able to perform each essential duty satisfactorily . The requirements listed below are representative of the knowledge , skill , and/or ability required . Knowledge of : - Generally accepted accounting principles ; - Local accounting standards and legislation ; - State reporting requirements pertaining to accounting ; - Principles and practices of financial management and budgeting ; - Principles and practices of financial systems design and analysis ; - Principles and practices of contract management , records management , and risk management ; - Principles and practices of management and supervision ; - Principles and practices of information systems management . Ability to : - Apply sound fiscal and administrative practices to the company's activities ; - Plan , organize and supervise the work of subordinate employees , including training them , assigning and evaluating their work , and providing job performance feedback ; - Critically analyze fiscal and administrative policies , practices , procedures , and systems , and recommend and implement changes as needed ; - Gather and synthesize financial information from a variety of sources and present it to a variety of audiences with differing financial management and analysis expertise ; - Prepare detailed , comprehensive financial reports , including explanatory text ; - Operate IBM-compatible personal computer , including word processing , spreadsheet , and database software applications ; - Operate specialized software applications that support the financial management and budgeting functions . Qualifications : - A minimum of 5-7 years Accounting/ Corporate Finance/ Banking experience , including a role as a CFO ; - Excellent finance and accounting technical skills coupled with a demonstrated knowledge of all key financial functions in an consulting company context - accounting , finance , control , treasury , reserving , and reporting ; - Strong financial planning and analytical skills and experience and the ability to work closely with and support the CEO and other executives in strategic development and implementation ; - Excellent leadership , management and supervisory track record of attracting , selecting , developing , rewarding and retaining high-caliber , accounting and finance executive and teams who achieve business goals ; - An undergraduate degree in finance , business , or other related discipline is required . A CPA , CFA , ACCA or other financial certification is highly preferred , as is a Masters degree in Business Administration , Accounting or Finance ; - Fluency in English , Armenian and Russian with outstanding writing skills ; - Excellent analytical , communication , teamwork , interpersonal skills ; - Need to be well organized and detail-oriented as well as goal/ result driven and able to deal with complex issues . \n",
      "\n",
      "DOC2:\n",
      " - Degree in environmentally related field , or 5 years relevant experience ; - Oral and written fluency in Armenian , Russian and English ; - Knowledge/ experience of working with environmental issues specific to Armenia is a plus . REMUNERATION : Salary commensurate with experience . \n",
      "\n",
      " 0.93933324553494\n"
     ]
    }
   ],
   "source": [
    "# removing stopwords and punctuations\n",
    "\n",
    "doc1 = nlp(' '.join(df1.iloc[0]['RequiredQual_token']))\n",
    "doc2 = nlp(' '.join(df1.iloc[2]['RequiredQual_token']))\n",
    "similarity = doc1.similarity(doc2)\n",
    "print(\"DOC1:\\n\" + doc1.text, \"\\n\\nDOC2:\\n\", doc2.text, \"\\n\\n\", similarity)"
   ]
  },
  {
   "cell_type": "code",
   "execution_count": 54,
   "metadata": {},
   "outputs": [],
   "source": [
    "# POS-tagging & REG~Ex matcher.\n",
    "\n",
    "matcher = Matcher(nlp.vocab)\n",
    "\n",
    "def collect_sents(matcher, doc, i, matches):\n",
    "    match_id, start, end = matches[i]\n",
    "    span = doc[start : end]  # matched span\n",
    "    sent = span.sent  # sentence containing matched span\n",
    "    match_ents = [{'start': span.start_char - sent.start_char,\n",
    "                   'end': span.end_char - sent.start_char,\n",
    "                   'label': 'MATCH'}]\n",
    "    matched_sents.append({'text': sent.text, 'ents': match_ents })\n",
    "    \n",
    "patn1 = [{'POS':'ADJ'},{'ORTH': '-'}, {'POS':'NOUN', 'OP':'+'}, {'LOWER': 'organization'}]\n",
    "patn2 = [{'POS':'NOUN', 'OP':'+'}, {'LOWER': 'organization'}]\n",
    "patn3 = [{'POS':'NOUN', 'OP':'+'}, {'LOWER': 'company'}]\n",
    "patn4 = [{'POS':'NOUN', 'OP':'+'}, {'LOWER': 'services'}]\n",
    "patn5 = [{'LOWER': 'company'}, {'POS':'VERB'}, {'POS':'NOUN', 'OP':'+'}]\n",
    "patn6 = [{'LOWER':'provider'}, {'POS':'ADP'}, {'POS':'NOUN',  'OP': '+'}  , {'POS':'CCONJ','OP':'+'}, {'POS':'NOUN','OP':'+'}]\n",
    "patn7 = [{'LOWER':'provider'}, {'POS':'ADP'}, {'POS':'NOUN',  'OP': '+'}]\n",
    "patn8 = [{'POS':'VERB'}, {'POS':'NOUN',  'OP': '+'} ]\n",
    "patn9 = [{'POS':'ADJ'}, {'POS':'NOUN',  'OP': '+'} ]\n",
    "patn10 = [{'POS':'NOUN'}, {'POS':'ADP'}, {'POS':'NOUN',  'OP': '+'} ]\n",
    "patn11 = [{'POS':'NOUN'}, {'POS':'NOUN','OP':'+'} ]\n",
    "\n",
    "matcher.add('all', collect_sents, patn1, patn2, patn3, patn4, patn5, patn6, patn7, patn8, patn9, patn10, patn11)"
   ]
  },
  {
   "cell_type": "code",
   "execution_count": 63,
   "metadata": {},
   "outputs": [],
   "source": [
    "# RequiredQual\n",
    "\n",
    "for job1_idx in range(js.shape[0]):\n",
    "    matched_sents = []\n",
    "    keywords = []\n",
    "    t = re.sub(r'\\s+', ' ', js.iloc[job1_idx]['RequiredQual'])\n",
    "    doc = nlp(t)\n",
    "    matches = matcher(doc)\n",
    "    for match_id, start, end in matches:\n",
    "        string_id = nlp.vocab.strings[match_id]  # get string representation\n",
    "        span = doc[start:end]  # the matched span\n",
    "        keywords.append(span.text)\n",
    "    js.at[job1_idx, 'RequiredQual_keywords']= (\" \".join(keywords))"
   ]
  },
  {
   "cell_type": "code",
   "execution_count": 64,
   "metadata": {},
   "outputs": [],
   "source": [
    "# JobDescription\n",
    "\n",
    "for job1_idx in range(js.shape[0]):\n",
    "    matched_sents = []\n",
    "    keywords = []\n",
    "    t = re.sub(r'\\s+', ' ', str(js.iloc[job1_idx]['JobDescription']))\n",
    "    doc = nlp(t)\n",
    "    matches = matcher(doc)\n",
    "    for match_id, start, end in matches:\n",
    "        string_id = nlp.vocab.strings[match_id]  # get string representation\n",
    "        span = doc[start:end]  # the matched span\n",
    "        keywords.append(span.text)\n",
    "    js.at[job1_idx, 'JobDescription_keywords']= (\" \".join(keywords))"
   ]
  },
  {
   "cell_type": "code",
   "execution_count": 65,
   "metadata": {},
   "outputs": [],
   "source": [
    "# JobRequirment\n",
    "\n",
    "for job1_idx in range(js.shape[0]):\n",
    "    matched_sents = []\n",
    "    keywords = []\n",
    "    t = re.sub(r'\\s+', ' ', str(js.iloc[job1_idx]['JobRequirment']))\n",
    "    doc = nlp(t)\n",
    "    matches = matcher(doc)\n",
    "    for match_id, start, end in matches:\n",
    "        string_id = nlp.vocab.strings[match_id]  # get string representation\n",
    "        span = doc[start:end]  # the matched span\n",
    "        keywords.append(span.text)\n",
    "    js.at[job1_idx, 'JobRequirment_keywords']=(\" \".join(keywords))"
   ]
  },
  {
   "cell_type": "code",
   "execution_count": 66,
   "metadata": {},
   "outputs": [
    {
     "data": {
      "text/html": [
       "<div>\n",
       "<style scoped>\n",
       "    .dataframe tbody tr th:only-of-type {\n",
       "        vertical-align: middle;\n",
       "    }\n",
       "\n",
       "    .dataframe tbody tr th {\n",
       "        vertical-align: top;\n",
       "    }\n",
       "\n",
       "    .dataframe thead th {\n",
       "        text-align: right;\n",
       "    }\n",
       "</style>\n",
       "<table border=\"1\" class=\"dataframe\">\n",
       "  <thead>\n",
       "    <tr style=\"text-align: right;\">\n",
       "      <th></th>\n",
       "      <th>jobpost</th>\n",
       "      <th>Title</th>\n",
       "      <th>JobRequirment</th>\n",
       "      <th>JobDescription</th>\n",
       "      <th>RequiredQual</th>\n",
       "      <th>JobDescription_token</th>\n",
       "      <th>RequiredQual_token</th>\n",
       "      <th>JobRequirment_token</th>\n",
       "      <th>RequiredQual_keywords</th>\n",
       "      <th>JobDescription_keywords</th>\n",
       "      <th>JobRequirment_keywords</th>\n",
       "    </tr>\n",
       "  </thead>\n",
       "  <tbody>\n",
       "    <tr>\n",
       "      <th>0</th>\n",
       "      <td>AMERIA Investment Consulting Company\\nJOB TITL...</td>\n",
       "      <td>Chief Financial Officer</td>\n",
       "      <td>- Supervises financial management and administ...</td>\n",
       "      <td>AMERIA Investment Consulting Company is seekin...</td>\n",
       "      <td>To perform this job successfully, an\\nindividu...</td>\n",
       "      <td>[AMERIA, Investment, Consulting, Company, is, ...</td>\n",
       "      <td>[To, perform, this, job, successfully, ,, an, ...</td>\n",
       "      <td>[-, Supervises, financial, management, and, ad...</td>\n",
       "      <td>essential duty accepted accounting accepted ac...</td>\n",
       "      <td>administrative functions complex staff complex...</td>\n",
       "      <td>financial management administrative staff assi...</td>\n",
       "    </tr>\n",
       "    <tr>\n",
       "      <th>1</th>\n",
       "      <td>International Research &amp; Exchanges Board (IREX...</td>\n",
       "      <td>Full-time Community Connections Intern (paid i...</td>\n",
       "      <td>- Participate in application design;\\n- Provid...</td>\n",
       "      <td>The incumbent will work under the direct super...</td>\n",
       "      <td>- Bachelor's Degree; Master's is preferred;\\n-...</td>\n",
       "      <td>[The, incumbent, will, work, under, the, direc...</td>\n",
       "      <td>[-, Bachelor, 's, Degree, ;, Master, 's, is, p...</td>\n",
       "      <td>[-, Participate, in, application, design, ;, -...</td>\n",
       "      <td>Excellent skills Armenian languages Armenian t...</td>\n",
       "      <td>direct supervision front desk</td>\n",
       "      <td>application design design documentation local ...</td>\n",
       "    </tr>\n",
       "    <tr>\n",
       "      <th>2</th>\n",
       "      <td>Caucasus Environmental NGO Network (CENN)\\nJOB...</td>\n",
       "      <td>Country Coordinator</td>\n",
       "      <td>- Working with the Country Director to provide...</td>\n",
       "      <td>Public outreach and strengthening of a growing...</td>\n",
       "      <td>- Degree in environmentally related field, or ...</td>\n",
       "      <td>[Public, outreach, and, strengthening, of, a, ...</td>\n",
       "      <td>[-, Degree, in, environmentally, related, fiel...</td>\n",
       "      <td>[-, Working, with, the, Country, Director, to,...</td>\n",
       "      <td>related field relevant experience written flue...</td>\n",
       "      <td>Public outreach growing network international ...</td>\n",
       "      <td>environmental information general public elect...</td>\n",
       "    </tr>\n",
       "  </tbody>\n",
       "</table>\n",
       "</div>"
      ],
      "text/plain": [
       "                                             jobpost  \\\n",
       "0  AMERIA Investment Consulting Company\\nJOB TITL...   \n",
       "1  International Research & Exchanges Board (IREX...   \n",
       "2  Caucasus Environmental NGO Network (CENN)\\nJOB...   \n",
       "\n",
       "                                               Title  \\\n",
       "0                            Chief Financial Officer   \n",
       "1  Full-time Community Connections Intern (paid i...   \n",
       "2                                Country Coordinator   \n",
       "\n",
       "                                       JobRequirment  \\\n",
       "0  - Supervises financial management and administ...   \n",
       "1  - Participate in application design;\\n- Provid...   \n",
       "2  - Working with the Country Director to provide...   \n",
       "\n",
       "                                      JobDescription  \\\n",
       "0  AMERIA Investment Consulting Company is seekin...   \n",
       "1  The incumbent will work under the direct super...   \n",
       "2  Public outreach and strengthening of a growing...   \n",
       "\n",
       "                                        RequiredQual  \\\n",
       "0  To perform this job successfully, an\\nindividu...   \n",
       "1  - Bachelor's Degree; Master's is preferred;\\n-...   \n",
       "2  - Degree in environmentally related field, or ...   \n",
       "\n",
       "                                JobDescription_token  \\\n",
       "0  [AMERIA, Investment, Consulting, Company, is, ...   \n",
       "1  [The, incumbent, will, work, under, the, direc...   \n",
       "2  [Public, outreach, and, strengthening, of, a, ...   \n",
       "\n",
       "                                  RequiredQual_token  \\\n",
       "0  [To, perform, this, job, successfully, ,, an, ...   \n",
       "1  [-, Bachelor, 's, Degree, ;, Master, 's, is, p...   \n",
       "2  [-, Degree, in, environmentally, related, fiel...   \n",
       "\n",
       "                                 JobRequirment_token  \\\n",
       "0  [-, Supervises, financial, management, and, ad...   \n",
       "1  [-, Participate, in, application, design, ;, -...   \n",
       "2  [-, Working, with, the, Country, Director, to,...   \n",
       "\n",
       "                               RequiredQual_keywords  \\\n",
       "0  essential duty accepted accounting accepted ac...   \n",
       "1  Excellent skills Armenian languages Armenian t...   \n",
       "2  related field relevant experience written flue...   \n",
       "\n",
       "                             JobDescription_keywords  \\\n",
       "0  administrative functions complex staff complex...   \n",
       "1                      direct supervision front desk   \n",
       "2  Public outreach growing network international ...   \n",
       "\n",
       "                              JobRequirment_keywords  \n",
       "0  financial management administrative staff assi...  \n",
       "1  application design design documentation local ...  \n",
       "2  environmental information general public elect...  "
      ]
     },
     "execution_count": 66,
     "metadata": {},
     "output_type": "execute_result"
    }
   ],
   "source": [
    "js.head(3)"
   ]
  },
  {
   "cell_type": "code",
   "execution_count": 67,
   "metadata": {},
   "outputs": [],
   "source": [
    "job_dissimilarity_df = pd.DataFrame(columns=['index', 'similar-job', 'dissimilar-score'])\n",
    "\n",
    "for job1_idx in range(3):  # rows\n",
    "    for job2_idx in range(1000):\n",
    "\n",
    "        doc1 = nlp(df1.iloc[job1_idx]['Title'])\n",
    "        doc2 = nlp(df1.iloc[job2_idx]['Title'])\n",
    "        title_similarity = doc1.similarity(doc2)\n",
    "        \n",
    "        doc1 = nlp(df1.iloc[job1_idx]['JobDescription_keywords'])\n",
    "        doc2 = nlp(df1.iloc[job2_idx]['JobDescription_keywords'])\n",
    "        jd_similarity = doc1.similarity(doc2)\n",
    "        \n",
    "        doc1 = nlp(df1.iloc[job1_idx]['JobRequirment_keywords'])\n",
    "        doc2 = nlp(df1.iloc[job2_idx]['JobRequirment_keywords'])\n",
    "        jr_similarity = doc1.similarity(doc2)\n",
    "        \n",
    "        doc1 = nlp(df1.iloc[job1_idx]['RequiredQual_keywords'])\n",
    "        doc2 = nlp(df1.iloc[job2_idx]['RequiredQual_keywords'])\n",
    "        rq_similarity = doc1.similarity(doc2)\n",
    "        \n",
    "        averaged_score = (title_similarity + jd_similarity + jr_similarity + rq_similarity) / 4.0\n",
    "        job_dissimilarity_df = job_dissimilarity_df.append({'index': job1_idx, 'similar-job': job2_idx, \n",
    "                                                            'dissimilar-score': (1-averaged_score)},ignore_index=True)\n"
   ]
  },
  {
   "cell_type": "code",
   "execution_count": 68,
   "metadata": {},
   "outputs": [
    {
     "data": {
      "text/html": [
       "<div>\n",
       "<style scoped>\n",
       "    .dataframe tbody tr th:only-of-type {\n",
       "        vertical-align: middle;\n",
       "    }\n",
       "\n",
       "    .dataframe tbody tr th {\n",
       "        vertical-align: top;\n",
       "    }\n",
       "\n",
       "    .dataframe thead th {\n",
       "        text-align: right;\n",
       "    }\n",
       "</style>\n",
       "<table border=\"1\" class=\"dataframe\">\n",
       "  <thead>\n",
       "    <tr style=\"text-align: right;\">\n",
       "      <th></th>\n",
       "      <th>index</th>\n",
       "      <th>similar-job</th>\n",
       "      <th>dissimilar-score</th>\n",
       "    </tr>\n",
       "  </thead>\n",
       "  <tbody>\n",
       "    <tr>\n",
       "      <th>0</th>\n",
       "      <td>0.0</td>\n",
       "      <td>0.0</td>\n",
       "      <td>0.000000</td>\n",
       "    </tr>\n",
       "    <tr>\n",
       "      <th>697</th>\n",
       "      <td>0.0</td>\n",
       "      <td>697.0</td>\n",
       "      <td>0.069082</td>\n",
       "    </tr>\n",
       "    <tr>\n",
       "      <th>926</th>\n",
       "      <td>0.0</td>\n",
       "      <td>926.0</td>\n",
       "      <td>0.111218</td>\n",
       "    </tr>\n",
       "    <tr>\n",
       "      <th>120</th>\n",
       "      <td>0.0</td>\n",
       "      <td>120.0</td>\n",
       "      <td>0.113904</td>\n",
       "    </tr>\n",
       "    <tr>\n",
       "      <th>29</th>\n",
       "      <td>0.0</td>\n",
       "      <td>29.0</td>\n",
       "      <td>0.122753</td>\n",
       "    </tr>\n",
       "    <tr>\n",
       "      <th>420</th>\n",
       "      <td>0.0</td>\n",
       "      <td>420.0</td>\n",
       "      <td>0.123143</td>\n",
       "    </tr>\n",
       "    <tr>\n",
       "      <th>126</th>\n",
       "      <td>0.0</td>\n",
       "      <td>126.0</td>\n",
       "      <td>0.124174</td>\n",
       "    </tr>\n",
       "    <tr>\n",
       "      <th>479</th>\n",
       "      <td>0.0</td>\n",
       "      <td>479.0</td>\n",
       "      <td>0.129356</td>\n",
       "    </tr>\n",
       "    <tr>\n",
       "      <th>778</th>\n",
       "      <td>0.0</td>\n",
       "      <td>778.0</td>\n",
       "      <td>0.132108</td>\n",
       "    </tr>\n",
       "    <tr>\n",
       "      <th>234</th>\n",
       "      <td>0.0</td>\n",
       "      <td>234.0</td>\n",
       "      <td>0.136706</td>\n",
       "    </tr>\n",
       "  </tbody>\n",
       "</table>\n",
       "</div>"
      ],
      "text/plain": [
       "     index  similar-job  dissimilar-score\n",
       "0      0.0          0.0          0.000000\n",
       "697    0.0        697.0          0.069082\n",
       "926    0.0        926.0          0.111218\n",
       "120    0.0        120.0          0.113904\n",
       "29     0.0         29.0          0.122753\n",
       "420    0.0        420.0          0.123143\n",
       "126    0.0        126.0          0.124174\n",
       "479    0.0        479.0          0.129356\n",
       "778    0.0        778.0          0.132108\n",
       "234    0.0        234.0          0.136706"
      ]
     },
     "execution_count": 68,
     "metadata": {},
     "output_type": "execute_result"
    }
   ],
   "source": [
    "# Top similar jobs\n",
    "\n",
    "job_dissimilarity_df_sorted = job_dissimilarity_df.sort_values(by=['index', 'dissimilar-score'], ascending=[True, True])\n",
    "job_dissimilarity_df_sorted.head(10)"
   ]
  },
  {
   "cell_type": "code",
   "execution_count": 69,
   "metadata": {},
   "outputs": [
    {
     "name": "stdout",
     "output_type": "stream",
     "text": [
      "jobpost                    AMERIA Investment Consulting Company JOB TITLE...\n",
      "Title                                                Chief Financial Officer\n",
      "JobRequirment              - Supervises financial management and administ...\n",
      "JobDescription             AMERIA Investment Consulting Company is seekin...\n",
      "RequiredQual               To perform this job successfully, an individua...\n",
      "JobDescription_token       [AMERIA, Investment, Consulting, Company, is, ...\n",
      "RequiredQual_token         [To, perform, this, job, successfully, ,, an, ...\n",
      "JobRequirment_token        [-, Supervises, financial, management, and, ad...\n",
      "RequiredQual_keywords      essential duty accepted accounting accepted ac...\n",
      "JobDescription_keywords    administrative functions complex staff complex...\n",
      "JobRequirment_keywords     financial management administrative staff assi...\n",
      "Name: 0, dtype: object\n",
      "jobpost                    Cascade Capital Holdings CJSC TITLE:  Chief Fi...\n",
      "Title                                                Chief Financial Officer\n",
      "JobRequirment              - Create and oversee a financial reporting sys...\n",
      "JobDescription             Cascade Capital Holdings CJSC is looking for a...\n",
      "RequiredQual               - A university degree in the relevant field. A...\n",
      "JobDescription_token       [Cascade, Capital, Holdings, CJSC, is, looking...\n",
      "RequiredQual_token         [-, A, university, degree, in, the, relevant, ...\n",
      "JobRequirment_token        [-, Create, and, oversee, a, financial, report...\n",
      "RequiredQual_keywords      university degree relevant field years experie...\n",
      "JobDescription_keywords    professional candidate successful candidate su...\n",
      "JobRequirment_keywords     financial reporting financial reporting system...\n",
      "Name: 697, dtype: object\n",
      "jobpost                    Cascade Insurance and Reinsurance Company (CIR...\n",
      "Title                                                       Chief Accountant\n",
      "JobRequirment              - Companys daily transactions accounting entri...\n",
      "JobDescription             Cascade Insurance and Reinsurance Company is l...\n",
      "RequiredQual               - Higher education, preferably in Accounting/ ...\n",
      "JobDescription_token       [Cascade, Insurance, and, Reinsurance, Company...\n",
      "RequiredQual_token         [-, Higher, education, ,, preferably, in, Acco...\n",
      "JobRequirment_token        [-, Companys, daily, transactions, accounting,...\n",
      "RequiredQual_keywords      Higher education years of experience similar p...\n",
      "JobDescription_keywords    professional candidate successful incumbent ov...\n",
      "JobRequirment_keywords     daily transactions daily transactions accounti...\n",
      "Name: 926, dtype: object\n",
      "jobpost                    SEF International Universal Credit Organisatio...\n",
      "Title                                          Accountant/ Financial Officer\n",
      "JobRequirment              - Participate in application design; - Provide...\n",
      "JobDescription             SEF International Ltd. is looking to recruit q...\n",
      "RequiredQual               - University degree or respected certificate i...\n",
      "JobDescription_token       [SEF, International, Ltd., is, looking, to, re...\n",
      "RequiredQual_token         [-, University, degree, or, respected, certifi...\n",
      "JobRequirment_token        [-, Participate, in, application, design, ;, -...\n",
      "RequiredQual_keywords      University degree respected certificate releva...\n",
      "JobDescription_keywords    routine accounting financial reports local aut...\n",
      "JobRequirment_keywords     application design design documentation local ...\n",
      "Name: 120, dtype: object\n",
      "jobpost                    SEF International JOB TITLE:  Chief Accountant...\n",
      "Title                                                       Chief Accountant\n",
      "JobRequirment              - Participate in application design; - Provide...\n",
      "JobDescription             Senior Management Position in Micro-Finance  S...\n",
      "RequiredQual               - University degree in Finance or Accounting; ...\n",
      "JobDescription_token       [Senior, Management, Position, in, Micro-Finan...\n",
      "RequiredQual_token         [-, University, degree, in, Finance, or, Accou...\n",
      "JobRequirment_token        [-, Participate, in, application, design, ;, -...\n",
      "RequiredQual_keywords      University degree relevant experience finance ...\n",
      "JobDescription_keywords    universal credit credit organization universal...\n",
      "JobRequirment_keywords     application design design documentation local ...\n",
      "Name: 29, dtype: object\n",
      "jobpost                    Heifer International Caucasus Regional office ...\n",
      "Title                                                       Chief Accountant\n",
      "JobRequirment              - Participate in application design; - Provide...\n",
      "JobDescription             Chief Accountant will report to the Regional D...\n",
      "RequiredQual               - Advanced degree in Accounting or Masters in ...\n",
      "JobDescription_token       [Chief, Accountant, will, report, to, the, Reg...\n",
      "RequiredQual_token         [-, Advanced, degree, in, Accounting, or, Mast...\n",
      "JobRequirment_token        [-, Participate, in, application, design, ;, -...\n",
      "RequiredQual_keywords      Advanced degree focus on accounting recognized...\n",
      "JobDescription_keywords    Job responsibilities Maintain accounting Maint...\n",
      "JobRequirment_keywords     application design design documentation local ...\n",
      "Name: 420, dtype: object\n"
     ]
    }
   ],
   "source": [
    "# Show top 5 similar results to job - Ameria Investment Consulting Job\n",
    "\n",
    "similar_jobs = job_dissimilarity_df_sorted.loc[job_dissimilarity_df_sorted['index'] == 0].head(6)['similar-job'].tolist()\n",
    "for job in similar_jobs:\n",
    "    print(df1.iloc[int(job)].replace(r'\\n',' ', regex=True))"
   ]
  },
  {
   "cell_type": "code",
   "execution_count": 70,
   "metadata": {},
   "outputs": [
    {
     "name": "stdout",
     "output_type": "stream",
     "text": [
      "jobpost                    International Research & Exchanges Board (IREX...\n",
      "Title                      Full-time Community Connections Intern (paid i...\n",
      "JobRequirment              - Participate in application design;\\n- Provid...\n",
      "JobDescription             The incumbent will work under the direct super...\n",
      "RequiredQual               - Bachelor's Degree; Master's is preferred;\\n-...\n",
      "JobDescription_token       [The, incumbent, will, work, under, the, direc...\n",
      "RequiredQual_token         [-, Bachelor, 's, Degree, ;, Master, 's, is, p...\n",
      "JobRequirment_token        [-, Participate, in, application, design, ;, -...\n",
      "RequiredQual_keywords      Excellent skills Armenian languages Armenian t...\n",
      "JobDescription_keywords                        direct supervision front desk\n",
      "JobRequirment_keywords     application design design documentation local ...\n",
      "Name: 1, dtype: object\n",
      "jobpost                    International Research & Exchanges Board (IREX...\n",
      "Title                       Non-paid part or full time Administrative Intern\n",
      "JobRequirment              - Participate in application design;\\n- Provid...\n",
      "JobDescription             The incumbent will work under the direct super...\n",
      "RequiredQual               - Excellent communication skills;\\n- Good oral...\n",
      "JobDescription_token       [The, incumbent, will, work, under, the, direc...\n",
      "RequiredQual_token         [-, Excellent, communication, skills, ;, -, Go...\n",
      "JobRequirment_token        [-, Participate, in, application, design, ;, -...\n",
      "RequiredQual_keywords      Excellent communication Excellent communicatio...\n",
      "JobDescription_keywords                        direct supervision front desk\n",
      "JobRequirment_keywords     application design design documentation local ...\n",
      "Name: 11, dtype: object\n",
      "jobpost                    International Research & Exchanges Board (IREX...\n",
      "Title                         Non-paid part or full time Programmatic Intern\n",
      "JobRequirment              - Participate in application design;\\n- Provid...\n",
      "JobDescription             The incumbent will work under the direct super...\n",
      "RequiredQual               - Excellent communication skills;\\n- Good oral...\n",
      "JobDescription_token       [The, incumbent, will, work, under, the, direc...\n",
      "RequiredQual_token         [-, Excellent, communication, skills, ;, -, Go...\n",
      "JobRequirment_token        [-, Participate, in, application, design, ;, -...\n",
      "RequiredQual_keywords      Excellent communication Excellent communicatio...\n",
      "JobDescription_keywords                        direct supervision front desk\n",
      "JobRequirment_keywords     application design design documentation local ...\n",
      "Name: 7, dtype: object\n",
      "jobpost                    Military Institute MoD RA\\nJOB TITLE:   IT Tea...\n",
      "Title                                                IT Teacher  (full time)\n",
      "JobRequirment              - Participate in application design;\\n- Provid...\n",
      "JobDescription             The incumbent will work under the direct super...\n",
      "RequiredQual               - Degree in Computer Science, Information Tech...\n",
      "JobDescription_token       [The, incumbent, will, work, under, the, direc...\n",
      "RequiredQual_token         [-, Degree, in, Computer, Science, ,, Informat...\n",
      "JobRequirment_token        [-, Participate, in, application, design, ;, -...\n",
      "RequiredQual_keywords      related discipline relevant field years of tea...\n",
      "JobDescription_keywords                        direct supervision front desk\n",
      "JobRequirment_keywords     application design design documentation local ...\n",
      "Name: 114, dtype: object\n",
      "jobpost                    International Research & Exchanges Board (IREX...\n",
      "Title                                 Short-Term Travel Grants (STG) Program\n",
      "JobRequirment              - Participate in application design;\\n- Provid...\n",
      "JobDescription             The incumbent will work under the direct super...\n",
      "RequiredQual               - Excellent communication skills;\\n- Good oral...\n",
      "JobDescription_token       [The, incumbent, will, work, under, the, direc...\n",
      "RequiredQual_token         [-, Excellent, communication, skills, ;, -, Go...\n",
      "JobRequirment_token        [-, Participate, in, application, design, ;, -...\n",
      "RequiredQual_keywords      Excellent communication Excellent communicatio...\n",
      "JobDescription_keywords                        direct supervision front desk\n",
      "JobRequirment_keywords     application design design documentation local ...\n",
      "Name: 10, dtype: object\n",
      "jobpost                    Yerevan State University (YSU) and Civic Educa...\n",
      "Title                      Student Forum: Student Conference and Debate F...\n",
      "JobRequirment              - Participate in application design;\\n- Provid...\n",
      "JobDescription             The incumbent will work under the direct super...\n",
      "RequiredQual               - Excellent communication skills;\\n- Good oral...\n",
      "JobDescription_token       [The, incumbent, will, work, under, the, direc...\n",
      "RequiredQual_token         [-, Excellent, communication, skills, ;, -, Go...\n",
      "JobRequirment_token        [-, Participate, in, application, design, ;, -...\n",
      "RequiredQual_keywords      Excellent communication Excellent communicatio...\n",
      "JobDescription_keywords                        direct supervision front desk\n",
      "JobRequirment_keywords     application design design documentation local ...\n",
      "Name: 26, dtype: object\n"
     ]
    }
   ],
   "source": [
    "# Show top 5 similar results to job - International Research & Exchange Board\n",
    "\n",
    "similar_jobs = job_dissimilarity_df_sorted.loc[job_dissimilarity_df_sorted['index'] == 1].head(6)['similar-job'].tolist()\n",
    "for job in similar_jobs:\n",
    "    print(df1.iloc[int(job)])"
   ]
  },
  {
   "cell_type": "code",
   "execution_count": 71,
   "metadata": {},
   "outputs": [
    {
     "name": "stdout",
     "output_type": "stream",
     "text": [
      "jobpost                    Caucasus Environmental NGO Network (CENN)\\nJOB...\n",
      "Title                                                    Country Coordinator\n",
      "JobRequirment              - Working with the Country Director to provide...\n",
      "JobDescription             Public outreach and strengthening of a growing...\n",
      "RequiredQual               - Degree in environmentally related field, or ...\n",
      "JobDescription_token       [Public, outreach, and, strengthening, of, a, ...\n",
      "RequiredQual_token         [-, Degree, in, environmentally, related, fiel...\n",
      "JobRequirment_token        [-, Working, with, the, Country, Director, to,...\n",
      "RequiredQual_keywords      related field relevant experience written flue...\n",
      "JobDescription_keywords    Public outreach growing network international ...\n",
      "JobRequirment_keywords     environmental information general public elect...\n",
      "Name: 2, dtype: object\n",
      "jobpost                    International Medical Corps\\nJOB TITLE:   Coun...\n",
      "Title                                                       Country Director\n",
      "JobRequirment              - Oversee project logistics, finance, and admi...\n",
      "JobDescription             Country Directors for Angola, Chad, Russian\\nF...\n",
      "RequiredQual               - Minimum five years of field experience in in...\n",
      "JobDescription_token       [Country, Directors, for, Angola, ,, Chad, ,, ...\n",
      "RequiredQual_token         [-, Minimum, five, years, of, field, experienc...\n",
      "JobRequirment_token        [-, Oversee, project, logistics, ,, finance, ,...\n",
      "RequiredQual_keywords      years of field years of field experience field...\n",
      "JobDescription_keywords    Country Directors country programs programs in...\n",
      "JobRequirment_keywords     project logistics administrative support Manag...\n",
      "Name: 139, dtype: object\n",
      "jobpost                    World Vision Armenia\\nTITLE:  Health Coordinat...\n",
      "Title                                                     Health Coordinator\n",
      "JobRequirment              The position is starting in August 2004 and is...\n",
      "JobDescription             Health Coordinator will be responsible for dir...\n",
      "RequiredQual               -\\tExperience of working in the field of publi...\n",
      "JobDescription_token       [Health, Coordinator, will, be, responsible, f...\n",
      "RequiredQual_token         [-, Experience, of, working, in, the, field, o...\n",
      "JobRequirment_token        [The, position, is, starting, in, August, 2004...\n",
      "RequiredQual_keywords      public health international organizations gove...\n",
      "JobDescription_keywords    direct coordination technical monitoring care ...\n",
      "JobRequirment_keywords     National office countrywide travel related gui...\n",
      "Name: 448, dtype: object\n",
      "jobpost                    World Vision Armenia\\nTITLE:  Community Develo...\n",
      "Title                                      Community Development Coordinator\n",
      "JobRequirment              -\\tTo identify, plan and support community dev...\n",
      "JobDescription             To identify strategic issues for community dev...\n",
      "RequiredQual               -\\tStrong leadership, management and organizat...\n",
      "JobDescription_token       [To, identify, strategic, issues, for, communi...\n",
      "RequiredQual_token         [-, Strong, leadership, ,, management, and, or...\n",
      "JobRequirment_token        [-, To, identify, ,, plan, and, support, commu...\n",
      "RequiredQual_keywords      Strong leadership organizational skills Proven...\n",
      "JobDescription_keywords    strategic issues issues for community issues f...\n",
      "JobRequirment_keywords     support community support community developmen...\n",
      "Name: 489, dtype: object\n",
      "jobpost                    World Vision Armenia\\nTITLE:  Health Coordinat...\n",
      "Title                                                     Health Coordinator\n",
      "JobRequirment              - Coordinate the obtaining and/or development/...\n",
      "JobDescription             WORLD VISION ARMENIA announces full-time posit...\n",
      "RequiredQual               Experience:\\nAt least 2 years experience of wo...\n",
      "JobDescription_token       [WORLD, VISION, ARMENIA, announces, full-time,...\n",
      "RequiredQual_token         [Experience, :, At, least, 2, years, experienc...\n",
      "JobRequirment_token        [-, Coordinate, the, obtaining, and/or, develo...\n",
      "RequiredQual_keywords      years experience public health certain focus i...\n",
      "JobDescription_keywords    time position care project direct coordination...\n",
      "JobRequirment_keywords     related guides up phase pre- new training new ...\n",
      "Name: 222, dtype: object\n",
      "jobpost                    PADCO Inc.\\nTITLE:  Program Coordinator\\nLOCAT...\n",
      "Title                                                    Program Coordinator\n",
      "JobRequirment              Essential and other important responsibilities...\n",
      "JobDescription             REPORTS TO: Chief of Party \\nSUPERVISES: Infor...\n",
      "RequiredQual               Sufficient education, training and/or work exp...\n",
      "JobDescription_token       [REPORTS, TO, :, Chief, of, Party, SUPERVISES,...\n",
      "RequiredQual_token         [Sufficient, education, ,, training, and/or, w...\n",
      "JobRequirment_token        [Essential, and, other, important, responsibil...\n",
      "RequiredQual_keywords      Sufficient education work experience demonstra...\n",
      "JobDescription_keywords    general direction DISTINGUISHING FEATURES tech...\n",
      "JobRequirment_keywords     important responsibilities following functions...\n",
      "Name: 356, dtype: object\n"
     ]
    }
   ],
   "source": [
    "# Show top 5 similar results to job - Caucasus Environmental NGO Network\n",
    "\n",
    "similar_jobs = job_dissimilarity_df_sorted.loc[job_dissimilarity_df_sorted['index'] == 2].head(6)['similar-job'].tolist()\n",
    "for job in similar_jobs:\n",
    "    print(df1.iloc[int(job)])"
   ]
  },
  {
   "cell_type": "code",
   "execution_count": null,
   "metadata": {},
   "outputs": [],
   "source": []
  },
  {
   "cell_type": "code",
   "execution_count": null,
   "metadata": {},
   "outputs": [],
   "source": []
  },
  {
   "cell_type": "code",
   "execution_count": null,
   "metadata": {},
   "outputs": [],
   "source": []
  }
 ],
 "metadata": {
  "kernelspec": {
   "display_name": "Python 3",
   "language": "python",
   "name": "python3"
  },
  "language_info": {
   "codemirror_mode": {
    "name": "ipython",
    "version": 3
   },
   "file_extension": ".py",
   "mimetype": "text/x-python",
   "name": "python",
   "nbconvert_exporter": "python",
   "pygments_lexer": "ipython3",
   "version": "3.7.7"
  }
 },
 "nbformat": 4,
 "nbformat_minor": 4
}
